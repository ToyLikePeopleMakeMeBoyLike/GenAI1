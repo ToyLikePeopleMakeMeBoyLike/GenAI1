{
 "cells": [
  {
   "cell_type": "markdown",
   "metadata": {
    "id": "vj4TmlLuXV54"
   },
   "source": [
    "# Libraries and Data"
   ]
  },
  {
   "cell_type": "code",
   "execution_count": 4,
   "metadata": {
    "id": "TrA2UFP-XkKy"
   },
   "outputs": [],
   "source": [
    "# Sample documents about sailing in Croatia\n",
    "documents = ['Sailing in Croatia often includes visiting UNESCO World Heritage sites.',\n",
    " 'The Makarska Riviera is known for its stunning coastline and sailing opportunities.',\n",
    " 'Sailing in Croatia offers stunning views of the Adriatic Sea.',\n",
    " \"The city of Sibenik is home to the impressive St. James's Cathedral, a UNESCO World Heritage site.\",\n",
    " 'The island of Brač is known for its beautiful beaches and great sailing conditions.',\n",
    " 'Sailing to the island of Rab, known for its medieval old town, is a great experience.',\n",
    " 'The Pakleni Islands near Hvar are a popular spot for sailing yachts.',\n",
    " 'The island of Cres is one of the largest in Croatia and a great destination for sailing.',\n",
    " 'The island of Cres is one of the largest in Croatia and has a diverse wildlife.',\n",
    " 'The city of Zagreb is the capital of Croatia and offers a mix of modern and historic attractions.',\n",
    " 'Sailors can experience the traditional Dalmatian way of life in many coastal villages.',\n",
    " 'The city of Knin is known for its historic fortress and beautiful scenery.',\n",
    " 'The island of Krk is the largest island in the Adriatic Sea.',\n",
    " 'Croatia has a rich history dating back to the Roman Empire.',\n",
    " 'The island of Hvar is a popular destination for celebrities and high-end travelers.',\n",
    " 'The city of Varazdin is known for its baroque buildings and vibrant cultural scene.',\n",
    " 'Sailors can enjoy fresh seafood at many coastal restaurants in Croatia.',\n",
    " 'The coastal town of Senj is known for its carnival and Nehaj Fortress.',\n",
    " 'The Dalmatian Coast is a famous region for sailing in Croatia.',\n",
    " \"The Diocletian's Palace in Split is one of the most famous Roman ruins in Croatia.\",\n",
    " 'The island of Dugi Otok is known for its dramatic cliffs and beautiful sailing waters.',\n",
    " 'The island of Rab is famous for its medieval old town and stunning beaches.',\n",
    " 'The island of Mljet is home to a national park and is ideal for nature lovers.',\n",
    " 'Sailors in Croatia can visit ancient Roman ruins in Split.',\n",
    " 'The city of Kotor, just across the border in Montenegro, is a popular extension for Croatian sailing trips.',\n",
    " 'The island of Korcula is believed to be the birthplace of Marco Polo.',\n",
    " 'The town of Motovun in Istria is famous for its film festival.',\n",
    " 'The city of Nin is known for its ancient salt pans and historic church.',\n",
    " 'The city of Vukovar is known for its role in the Croatian War of Independence.',\n",
    " 'Sailing to the island of Lošinj, known for its health tourism, is a relaxing experience.',\n",
    " 'The island of Hvar is known for its vibrant nightlife and sailing opportunities.',\n",
    " 'The island of Korčula is believed to be the birthplace of Marco Polo and is a popular sailing destination.',\n",
    " 'Sailing in Croatia often involves stopping at picturesque fishing villages.',\n",
    " 'The city of Opatija is known for its grand villas and seaside promenade.',\n",
    " 'The city of Porec is known for the Euphrasian Basilica, a UNESCO World Heritage site.',\n",
    " 'The island of Brac is home to the famous Zlatni Rat beach, known for its changing shape.',\n",
    " 'Sailing around the island of Mljet offers a peaceful and scenic experience.',\n",
    " 'The Blue Cave on Biševo Island is a must-see for sailors.',\n",
    " 'The island of Pag is famous for its cheese and nightlife, and is a fun stop for sailors.',\n",
    " \"The island of Lastovo is one of Croatia's most remote and tranquil destinations.\",\n",
    " 'Sailors can enjoy snorkeling in the clear waters of the Adriatic Sea.',\n",
    " 'The city of Rovinj is a charming starting point for a sailing trip in Croatia.',\n",
    " \"Croatia's national parks, like Krka and Plitvice, are ideal for hiking and nature lovers.\",\n",
    " 'The city of Zadar is famous for its sunsets, which sailors can enjoy from the sea.',\n",
    " 'Croatia has over a thousand islands, each with its unique charm.',\n",
    " \"Croatia's Adriatic coast is dotted with charming fishing villages.\",\n",
    " 'Sailing to the island of Šolta offers a quiet escape from the more touristy areas.',\n",
    " 'Sailors in Croatia can explore over 1,200 islands.',\n",
    " 'Sailing in Croatia provides opportunities to visit ancient fortresses and castles along the coast.',\n",
    " 'Croatia is famous for its beautiful coastline and crystal-clear waters.',\n",
    " 'The island of Krk is accessible by bridge and is a popular starting point for sailing trips.',\n",
    " 'Sailing in Croatia is best enjoyed during the summer months.',\n",
    " 'The island of Pag is famous for its cheese, which is considered a delicacy.',\n",
    " 'The medieval town of Rovinj is one of the most picturesque places in Croatia.',\n",
    " 'The island of Losinj is famous for its health tourism and clean air.',\n",
    " 'The city of Dubrovnik, with its famous city walls, is a top destination for sailors.',\n",
    " 'Croatia has beautiful islands perfect for sailing.',\n",
    " 'Sailing in Croatia allows you to explore hidden coves and bays.',\n",
    " 'The city of Rijeka is an important cultural and economic center in Croatia.',\n",
    " 'The island of Mljet has a national park that is perfect for exploring by sailboat.',\n",
    " 'The Istrian Peninsula is famous for its truffles and gourmet food.',\n",
    " 'The town of Cavtat is a quieter alternative to nearby Dubrovnik.',\n",
    " 'The Peljesac Peninsula is known for its vineyards and wine production.',\n",
    " 'The Dubrovnik Summer Festival is a major cultural event featuring theater, music, and dance performances.',\n",
    " 'The city of Zadar is famous for its unique Sea Organ, an architectural sound art object.',\n",
    " 'The beaches in Croatia are among the best in Europe, with many receiving Blue Flag status.',\n",
    " 'Sailing around the island of Murter gives access to the Kornati Islands National Park.',\n",
    " 'The city of Trogir, with its historic architecture, is a great place to dock.',\n",
    " 'Sailing from Split to Dubrovnik offers breathtaking coastal scenery.',\n",
    " 'The Plitvice Lakes National Park is a UNESCO World Heritage site known for its stunning waterfalls and lakes.',\n",
    " 'The city of Hvar is one of the sunniest places in Europe and a popular sailing hub.',\n",
    " \"The city of Dubrovnik is often called the 'Pearl of the Adriatic'.\",\n",
    " 'The city of Osijek is located in the eastern part of Croatia and is known for its Baroque style.',\n",
    " 'The city of Pula, with its Roman amphitheater, is a unique sailing destination.',\n",
    " 'The town of Trogir is a UNESCO World Heritage site known for its medieval architecture.',\n",
    " 'Sailors in Croatia can enjoy local wines at many coastal vineyards.',\n",
    " 'Croatia has a Mediterranean climate, making it a great destination year-round.',\n",
    " 'Croatia has a diverse cultural heritage, with influences from Italy, Hungary, and Austria.',\n",
    " 'The city of Rijeka is an important cultural and historical sailing destination.',\n",
    " 'The best sailing routes in Croatia include Dubrovnik and Split.',\n",
    " 'The Brijuni Islands are a national park and a former presidential retreat.',\n",
    " 'Sailing to the Elaphiti Islands offers a mix of natural beauty and cultural sites.',\n",
    " 'Croatia is known for its delicious seafood cuisine.',\n",
    " 'The ancient city of Pula is known for its well-preserved Roman amphitheater.',\n",
    " 'The city of Opatija is a historical seaside resort that welcomes sailors.',\n",
    " 'The waters around Croatia are known for being calm and clear, ideal for sailing.',\n",
    " 'The Kornati Islands National Park is a popular sailing destination in Croatia.',\n",
    " \"Sailing around the Brijuni Islands offers a glimpse of Croatia's natural beauty and wildlife.\",\n",
    " 'The island of Vis was a military base and was closed to tourism until the 1990s.',\n",
    " 'The city of Split is a major port and gateway to the Dalmatian islands.',\n",
    " 'Sailing to the island of Vis provides access to the famous Blue Cave.',\n",
    " \"The city of Buzet in Istria is known as the 'City of Truffles'.\",\n",
    " 'The city of Karlovac is known for its parks and the rivers that flow through it.',\n",
    " 'Sailing to the island of Vis allows you to experience a more remote part of Croatia.',\n",
    " 'The city of Šibenik is a UNESCO World Heritage site and a great stop for sailors.',\n",
    " \"The town of Samobor is famous for its traditional cream cake called 'kremsnita'.\",\n",
    " 'Sailing around the island of Lastovo provides a more secluded experience.',\n",
    " \"Croatia's wine regions produce some excellent wines, especially in Istria and Dalmatia.\",\n",
    " 'Many sailors start their Croatian adventure from the city of Zadar.',\n",
    " 'The coastal town of Makarska is known for its beautiful beaches and lively nightlife.']"
   ]
  },
  {
   "cell_type": "code",
   "execution_count": 25,
   "metadata": {
    "executionInfo": {
     "elapsed": 6829,
     "status": "ok",
     "timestamp": 1734361036625,
     "user": {
      "displayName": "Gladys Mawarni",
      "userId": "03879441175200282144"
     },
     "user_tz": 0
    },
    "id": "6-evBm-4XQGL"
   },
   "outputs": [],
   "source": [
    "# Import Libraries\n",
    "import nltk\n",
    "from sklearn.feature_extraction.text import TfidfVectorizer\n",
    "import numpy as np"
   ]
  },
  {
   "cell_type": "code",
   "execution_count": 21,
   "metadata": {},
   "outputs": [
    {
     "name": "stdout",
     "output_type": "stream",
     "text": [
      "Collecting nltk==3.8.1\n",
      "  Downloading nltk-3.8.1-py3-none-any.whl.metadata (2.8 kB)\n",
      "Collecting numpy==1.26.4\n",
      "  Downloading numpy-1.26.4-cp312-cp312-manylinux_2_17_x86_64.manylinux2014_x86_64.whl.metadata (61 kB)\n",
      "Collecting rank_bm25==0.2.2\n",
      "  Downloading rank_bm25-0.2.2-py3-none-any.whl.metadata (3.2 kB)\n",
      "Collecting scikit-learn==1.5.2\n",
      "  Downloading scikit_learn-1.5.2-cp312-cp312-manylinux_2_17_x86_64.manylinux2014_x86_64.whl.metadata (13 kB)\n",
      "Requirement already satisfied: click in /usr/local/python/3.12.1/lib/python3.12/site-packages (from nltk==3.8.1) (8.1.8)\n",
      "Requirement already satisfied: joblib in /home/codespace/.local/lib/python3.12/site-packages (from nltk==3.8.1) (1.4.2)\n",
      "Requirement already satisfied: regex>=2021.8.3 in /usr/local/python/3.12.1/lib/python3.12/site-packages (from nltk==3.8.1) (2024.11.6)\n",
      "Requirement already satisfied: tqdm in /usr/local/python/3.12.1/lib/python3.12/site-packages (from nltk==3.8.1) (4.66.4)\n",
      "Requirement already satisfied: scipy>=1.6.0 in /home/codespace/.local/lib/python3.12/site-packages (from scikit-learn==1.5.2) (1.15.2)\n",
      "Requirement already satisfied: threadpoolctl>=3.1.0 in /home/codespace/.local/lib/python3.12/site-packages (from scikit-learn==1.5.2) (3.6.0)\n",
      "Downloading nltk-3.8.1-py3-none-any.whl (1.5 MB)\n",
      "\u001b[2K   \u001b[90m━━━━━━━━━━━━━━━━━━━━━━━━━━━━━━━━━━━━━━━━\u001b[0m \u001b[32m1.5/1.5 MB\u001b[0m \u001b[31m37.9 MB/s\u001b[0m eta \u001b[36m0:00:00\u001b[0m\n",
      "\u001b[?25hDownloading numpy-1.26.4-cp312-cp312-manylinux_2_17_x86_64.manylinux2014_x86_64.whl (18.0 MB)\n",
      "\u001b[2K   \u001b[90m━━━━━━━━━━━━━━━━━━━━━━━━━━━━━━━━━━━━━━━━\u001b[0m \u001b[32m18.0/18.0 MB\u001b[0m \u001b[31m60.4 MB/s\u001b[0m eta \u001b[36m0:00:00\u001b[0m:00:01\u001b[0m\n",
      "\u001b[?25hDownloading rank_bm25-0.2.2-py3-none-any.whl (8.6 kB)\n",
      "Downloading scikit_learn-1.5.2-cp312-cp312-manylinux_2_17_x86_64.manylinux2014_x86_64.whl (12.9 MB)\n",
      "\u001b[2K   \u001b[90m━━━━━━━━━━━━━━━━━━━━━━━━━━━━━━━━━━━━━━━━\u001b[0m \u001b[32m12.9/12.9 MB\u001b[0m \u001b[31m55.1 MB/s\u001b[0m eta \u001b[36m0:00:00\u001b[0m:00:01\u001b[0m\n",
      "\u001b[?25hInstalling collected packages: numpy, nltk, rank_bm25, scikit-learn\n",
      "  Attempting uninstall: numpy\n",
      "    Found existing installation: numpy 2.2.4\n",
      "    Uninstalling numpy-2.2.4:\n",
      "      Successfully uninstalled numpy-2.2.4\n",
      "  Attempting uninstall: nltk\n",
      "    Found existing installation: nltk 3.9.1\n",
      "    Uninstalling nltk-3.9.1:\n",
      "      Successfully uninstalled nltk-3.9.1\n",
      "  Attempting uninstall: scikit-learn\n",
      "    Found existing installation: scikit-learn 1.6.1\n",
      "    Uninstalling scikit-learn-1.6.1:\n",
      "      Successfully uninstalled scikit-learn-1.6.1\n",
      "Successfully installed nltk-3.8.1 numpy-1.26.4 rank_bm25-0.2.2 scikit-learn-1.5.2\n"
     ]
    }
   ],
   "source": [
    "# Run this in a Jupyter Notebook cell\n",
    "!pip install nltk==3.8.1 numpy==1.26.4 rank_bm25==0.2.2 scikit-learn==1.5.2\n"
   ]
  },
  {
   "cell_type": "code",
   "execution_count": 26,
   "metadata": {
    "colab": {
     "base_uri": "https://localhost:8080/"
    },
    "executionInfo": {
     "elapsed": 414,
     "status": "ok",
     "timestamp": 1724947357561,
     "user": {
      "displayName": "Gladys Mawarni",
      "userId": "03879441175200282144"
     },
     "user_tz": -60
    },
    "id": "rhVWrOXxXY3y",
    "outputId": "090b6992-159e-47be-ef41-f23045ac55ad"
   },
   "outputs": [
    {
     "name": "stderr",
     "output_type": "stream",
     "text": [
      "[nltk_data] Downloading package punkt to /home/codespace/nltk_data...\n",
      "[nltk_data]   Package punkt is already up-to-date!\n",
      "[nltk_data] Downloading package stopwords to\n",
      "[nltk_data]     /home/codespace/nltk_data...\n",
      "[nltk_data]   Package stopwords is already up-to-date!\n"
     ]
    },
    {
     "data": {
      "text/plain": [
       "True"
      ]
     },
     "execution_count": 26,
     "metadata": {},
     "output_type": "execute_result"
    }
   ],
   "source": [
    "# Download the 'punkt' tokenizer model\n",
    "nltk.download('punkt')\n",
    "# Download the 'stopwords' corpus from nltk\n",
    "nltk.download('stopwords')"
   ]
  },
  {
   "cell_type": "markdown",
   "metadata": {
    "id": "NsFMMzMkYOz9"
   },
   "source": [
    "# Tokenization"
   ]
  },
  {
   "cell_type": "code",
   "execution_count": 27,
   "metadata": {
    "id": "Fkl4JUfbYOPo"
   },
   "outputs": [],
   "source": [
    "# Sample text\n",
    "text = \"Sailing in Croatia offers stunning views of the Adriatic Sea.\""
   ]
  },
  {
   "cell_type": "code",
   "execution_count": 28,
   "metadata": {
    "colab": {
     "base_uri": "https://localhost:8080/"
    },
    "executionInfo": {
     "elapsed": 22,
     "status": "ok",
     "timestamp": 1724946713456,
     "user": {
      "displayName": "Gladys Mawarni",
      "userId": "03879441175200282144"
     },
     "user_tz": -60
    },
    "id": "t3kkVIfDX0q8",
    "outputId": "00690dd5-66a3-425b-97d5-957bd28e15ec"
   },
   "outputs": [
    {
     "ename": "LookupError",
     "evalue": "\n**********************************************************************\n  Resource \u001b[93mpunkt_tab\u001b[0m not found.\n  Please use the NLTK Downloader to obtain the resource:\n\n  \u001b[31m>>> import nltk\n  >>> nltk.download('punkt_tab')\n  \u001b[0m\n  For more information see: https://www.nltk.org/data.html\n\n  Attempted to load \u001b[93mtokenizers/punkt_tab/english/\u001b[0m\n\n  Searched in:\n    - '/home/codespace/nltk_data'\n    - '/home/codespace/.python/current/nltk_data'\n    - '/home/codespace/.python/current/share/nltk_data'\n    - '/home/codespace/.python/current/lib/nltk_data'\n    - '/usr/share/nltk_data'\n    - '/usr/local/share/nltk_data'\n    - '/usr/lib/nltk_data'\n    - '/usr/local/lib/nltk_data'\n**********************************************************************\n",
     "output_type": "error",
     "traceback": [
      "\u001b[31m---------------------------------------------------------------------------\u001b[39m",
      "\u001b[31mLookupError\u001b[39m                               Traceback (most recent call last)",
      "\u001b[36mCell\u001b[39m\u001b[36m \u001b[39m\u001b[32mIn[28]\u001b[39m\u001b[32m, line 3\u001b[39m\n\u001b[32m      1\u001b[39m \u001b[38;5;66;03m# Tokenize the text into sentences\u001b[39;00m\n\u001b[32m      2\u001b[39m \u001b[38;5;66;03m# Splits the input text into a list of sentences\u001b[39;00m\n\u001b[32m----> \u001b[39m\u001b[32m3\u001b[39m sentences = \u001b[43mnltk\u001b[49m\u001b[43m.\u001b[49m\u001b[43msent_tokenize\u001b[49m\u001b[43m(\u001b[49m\u001b[43mtext\u001b[49m\u001b[43m)\u001b[49m\n\u001b[32m      4\u001b[39m \u001b[38;5;28mprint\u001b[39m(\u001b[33m\"\u001b[39m\u001b[33mSentences:\u001b[39m\u001b[33m\"\u001b[39m, sentences)\n",
      "\u001b[36mFile \u001b[39m\u001b[32m~/.python/current/lib/python3.12/site-packages/nltk/tokenize/__init__.py:119\u001b[39m, in \u001b[36msent_tokenize\u001b[39m\u001b[34m(text, language)\u001b[39m\n\u001b[32m    109\u001b[39m \u001b[38;5;28;01mdef\u001b[39;00m\u001b[38;5;250m \u001b[39m\u001b[34msent_tokenize\u001b[39m(text, language=\u001b[33m\"\u001b[39m\u001b[33menglish\u001b[39m\u001b[33m\"\u001b[39m):\n\u001b[32m    110\u001b[39m \u001b[38;5;250m    \u001b[39m\u001b[33;03m\"\"\"\u001b[39;00m\n\u001b[32m    111\u001b[39m \u001b[33;03m    Return a sentence-tokenized copy of *text*,\u001b[39;00m\n\u001b[32m    112\u001b[39m \u001b[33;03m    using NLTK's recommended sentence tokenizer\u001b[39;00m\n\u001b[32m   (...)\u001b[39m\u001b[32m    117\u001b[39m \u001b[33;03m    :param language: the model name in the Punkt corpus\u001b[39;00m\n\u001b[32m    118\u001b[39m \u001b[33;03m    \"\"\"\u001b[39;00m\n\u001b[32m--> \u001b[39m\u001b[32m119\u001b[39m     tokenizer = \u001b[43m_get_punkt_tokenizer\u001b[49m\u001b[43m(\u001b[49m\u001b[43mlanguage\u001b[49m\u001b[43m)\u001b[49m\n\u001b[32m    120\u001b[39m     \u001b[38;5;28;01mreturn\u001b[39;00m tokenizer.tokenize(text)\n",
      "\u001b[36mFile \u001b[39m\u001b[32m~/.python/current/lib/python3.12/site-packages/nltk/tokenize/__init__.py:105\u001b[39m, in \u001b[36m_get_punkt_tokenizer\u001b[39m\u001b[34m(language)\u001b[39m\n\u001b[32m     96\u001b[39m \u001b[38;5;129m@functools\u001b[39m.lru_cache\n\u001b[32m     97\u001b[39m \u001b[38;5;28;01mdef\u001b[39;00m\u001b[38;5;250m \u001b[39m\u001b[34m_get_punkt_tokenizer\u001b[39m(language=\u001b[33m\"\u001b[39m\u001b[33menglish\u001b[39m\u001b[33m\"\u001b[39m):\n\u001b[32m     98\u001b[39m \u001b[38;5;250m    \u001b[39m\u001b[33;03m\"\"\"\u001b[39;00m\n\u001b[32m     99\u001b[39m \u001b[33;03m    A constructor for the PunktTokenizer that utilizes\u001b[39;00m\n\u001b[32m    100\u001b[39m \u001b[33;03m    a lru cache for performance.\u001b[39;00m\n\u001b[32m   (...)\u001b[39m\u001b[32m    103\u001b[39m \u001b[33;03m    :type language: str\u001b[39;00m\n\u001b[32m    104\u001b[39m \u001b[33;03m    \"\"\"\u001b[39;00m\n\u001b[32m--> \u001b[39m\u001b[32m105\u001b[39m     \u001b[38;5;28;01mreturn\u001b[39;00m \u001b[43mPunktTokenizer\u001b[49m\u001b[43m(\u001b[49m\u001b[43mlanguage\u001b[49m\u001b[43m)\u001b[49m\n",
      "\u001b[36mFile \u001b[39m\u001b[32m~/.python/current/lib/python3.12/site-packages/nltk/tokenize/punkt.py:1744\u001b[39m, in \u001b[36mPunktTokenizer.__init__\u001b[39m\u001b[34m(self, lang)\u001b[39m\n\u001b[32m   1742\u001b[39m \u001b[38;5;28;01mdef\u001b[39;00m\u001b[38;5;250m \u001b[39m\u001b[34m__init__\u001b[39m(\u001b[38;5;28mself\u001b[39m, lang=\u001b[33m\"\u001b[39m\u001b[33menglish\u001b[39m\u001b[33m\"\u001b[39m):\n\u001b[32m   1743\u001b[39m     PunktSentenceTokenizer.\u001b[34m__init__\u001b[39m(\u001b[38;5;28mself\u001b[39m)\n\u001b[32m-> \u001b[39m\u001b[32m1744\u001b[39m     \u001b[38;5;28;43mself\u001b[39;49m\u001b[43m.\u001b[49m\u001b[43mload_lang\u001b[49m\u001b[43m(\u001b[49m\u001b[43mlang\u001b[49m\u001b[43m)\u001b[49m\n",
      "\u001b[36mFile \u001b[39m\u001b[32m~/.python/current/lib/python3.12/site-packages/nltk/tokenize/punkt.py:1749\u001b[39m, in \u001b[36mPunktTokenizer.load_lang\u001b[39m\u001b[34m(self, lang)\u001b[39m\n\u001b[32m   1746\u001b[39m \u001b[38;5;28;01mdef\u001b[39;00m\u001b[38;5;250m \u001b[39m\u001b[34mload_lang\u001b[39m(\u001b[38;5;28mself\u001b[39m, lang=\u001b[33m\"\u001b[39m\u001b[33menglish\u001b[39m\u001b[33m\"\u001b[39m):\n\u001b[32m   1747\u001b[39m     \u001b[38;5;28;01mfrom\u001b[39;00m\u001b[38;5;250m \u001b[39m\u001b[34;01mnltk\u001b[39;00m\u001b[34;01m.\u001b[39;00m\u001b[34;01mdata\u001b[39;00m\u001b[38;5;250m \u001b[39m\u001b[38;5;28;01mimport\u001b[39;00m find\n\u001b[32m-> \u001b[39m\u001b[32m1749\u001b[39m     lang_dir = \u001b[43mfind\u001b[49m\u001b[43m(\u001b[49m\u001b[33;43mf\u001b[39;49m\u001b[33;43m\"\u001b[39;49m\u001b[33;43mtokenizers/punkt_tab/\u001b[39;49m\u001b[38;5;132;43;01m{\u001b[39;49;00m\u001b[43mlang\u001b[49m\u001b[38;5;132;43;01m}\u001b[39;49;00m\u001b[33;43m/\u001b[39;49m\u001b[33;43m\"\u001b[39;49m\u001b[43m)\u001b[49m\n\u001b[32m   1750\u001b[39m     \u001b[38;5;28mself\u001b[39m._params = load_punkt_params(lang_dir)\n\u001b[32m   1751\u001b[39m     \u001b[38;5;28mself\u001b[39m._lang = lang\n",
      "\u001b[36mFile \u001b[39m\u001b[32m~/.python/current/lib/python3.12/site-packages/nltk/data.py:579\u001b[39m, in \u001b[36mfind\u001b[39m\u001b[34m(resource_name, paths)\u001b[39m\n\u001b[32m    577\u001b[39m sep = \u001b[33m\"\u001b[39m\u001b[33m*\u001b[39m\u001b[33m\"\u001b[39m * \u001b[32m70\u001b[39m\n\u001b[32m    578\u001b[39m resource_not_found = \u001b[33mf\u001b[39m\u001b[33m\"\u001b[39m\u001b[38;5;130;01m\\n\u001b[39;00m\u001b[38;5;132;01m{\u001b[39;00msep\u001b[38;5;132;01m}\u001b[39;00m\u001b[38;5;130;01m\\n\u001b[39;00m\u001b[38;5;132;01m{\u001b[39;00mmsg\u001b[38;5;132;01m}\u001b[39;00m\u001b[38;5;130;01m\\n\u001b[39;00m\u001b[38;5;132;01m{\u001b[39;00msep\u001b[38;5;132;01m}\u001b[39;00m\u001b[38;5;130;01m\\n\u001b[39;00m\u001b[33m\"\u001b[39m\n\u001b[32m--> \u001b[39m\u001b[32m579\u001b[39m \u001b[38;5;28;01mraise\u001b[39;00m \u001b[38;5;167;01mLookupError\u001b[39;00m(resource_not_found)\n",
      "\u001b[31mLookupError\u001b[39m: \n**********************************************************************\n  Resource \u001b[93mpunkt_tab\u001b[0m not found.\n  Please use the NLTK Downloader to obtain the resource:\n\n  \u001b[31m>>> import nltk\n  >>> nltk.download('punkt_tab')\n  \u001b[0m\n  For more information see: https://www.nltk.org/data.html\n\n  Attempted to load \u001b[93mtokenizers/punkt_tab/english/\u001b[0m\n\n  Searched in:\n    - '/home/codespace/nltk_data'\n    - '/home/codespace/.python/current/nltk_data'\n    - '/home/codespace/.python/current/share/nltk_data'\n    - '/home/codespace/.python/current/lib/nltk_data'\n    - '/usr/share/nltk_data'\n    - '/usr/local/share/nltk_data'\n    - '/usr/lib/nltk_data'\n    - '/usr/local/lib/nltk_data'\n**********************************************************************\n"
     ]
    }
   ],
   "source": [
    "# Tokenize the text into sentences\n",
    "# Splits the input text into a list of sentences\n",
    "sentences = nltk.sent_tokenize(text)\n",
    "print(\"Sentences:\", sentences)"
   ]
  },
  {
   "cell_type": "code",
   "execution_count": 29,
   "metadata": {
    "colab": {
     "base_uri": "https://localhost:8080/"
    },
    "executionInfo": {
     "elapsed": 21,
     "status": "ok",
     "timestamp": 1724946713457,
     "user": {
      "displayName": "Gladys Mawarni",
      "userId": "03879441175200282144"
     },
     "user_tz": -60
    },
    "id": "RnY39aLjYRsu",
    "outputId": "deb66f5b-24a2-4b4f-cd11-c3d42c2515ea"
   },
   "outputs": [
    {
     "ename": "LookupError",
     "evalue": "\n**********************************************************************\n  Resource \u001b[93mpunkt_tab\u001b[0m not found.\n  Please use the NLTK Downloader to obtain the resource:\n\n  \u001b[31m>>> import nltk\n  >>> nltk.download('punkt_tab')\n  \u001b[0m\n  For more information see: https://www.nltk.org/data.html\n\n  Attempted to load \u001b[93mtokenizers/punkt_tab/english/\u001b[0m\n\n  Searched in:\n    - '/home/codespace/nltk_data'\n    - '/home/codespace/.python/current/nltk_data'\n    - '/home/codespace/.python/current/share/nltk_data'\n    - '/home/codespace/.python/current/lib/nltk_data'\n    - '/usr/share/nltk_data'\n    - '/usr/local/share/nltk_data'\n    - '/usr/lib/nltk_data'\n    - '/usr/local/lib/nltk_data'\n**********************************************************************\n",
     "output_type": "error",
     "traceback": [
      "\u001b[31m---------------------------------------------------------------------------\u001b[39m",
      "\u001b[31mLookupError\u001b[39m                               Traceback (most recent call last)",
      "\u001b[36mCell\u001b[39m\u001b[36m \u001b[39m\u001b[32mIn[29]\u001b[39m\u001b[32m, line 3\u001b[39m\n\u001b[32m      1\u001b[39m \u001b[38;5;66;03m# Tokenize the text into words\u001b[39;00m\n\u001b[32m      2\u001b[39m \u001b[38;5;66;03m# Splits the input text into a list of words and punctuation marks\u001b[39;00m\n\u001b[32m----> \u001b[39m\u001b[32m3\u001b[39m words = \u001b[43mnltk\u001b[49m\u001b[43m.\u001b[49m\u001b[43mword_tokenize\u001b[49m\u001b[43m(\u001b[49m\u001b[43mtext\u001b[49m\u001b[43m)\u001b[49m\n\u001b[32m      4\u001b[39m \u001b[38;5;28mprint\u001b[39m(\u001b[33m\"\u001b[39m\u001b[33mWords:\u001b[39m\u001b[33m\"\u001b[39m, words)\n",
      "\u001b[36mFile \u001b[39m\u001b[32m~/.python/current/lib/python3.12/site-packages/nltk/tokenize/__init__.py:142\u001b[39m, in \u001b[36mword_tokenize\u001b[39m\u001b[34m(text, language, preserve_line)\u001b[39m\n\u001b[32m    127\u001b[39m \u001b[38;5;28;01mdef\u001b[39;00m\u001b[38;5;250m \u001b[39m\u001b[34mword_tokenize\u001b[39m(text, language=\u001b[33m\"\u001b[39m\u001b[33menglish\u001b[39m\u001b[33m\"\u001b[39m, preserve_line=\u001b[38;5;28;01mFalse\u001b[39;00m):\n\u001b[32m    128\u001b[39m \u001b[38;5;250m    \u001b[39m\u001b[33;03m\"\"\"\u001b[39;00m\n\u001b[32m    129\u001b[39m \u001b[33;03m    Return a tokenized copy of *text*,\u001b[39;00m\n\u001b[32m    130\u001b[39m \u001b[33;03m    using NLTK's recommended word tokenizer\u001b[39;00m\n\u001b[32m   (...)\u001b[39m\u001b[32m    140\u001b[39m \u001b[33;03m    :type preserve_line: bool\u001b[39;00m\n\u001b[32m    141\u001b[39m \u001b[33;03m    \"\"\"\u001b[39;00m\n\u001b[32m--> \u001b[39m\u001b[32m142\u001b[39m     sentences = [text] \u001b[38;5;28;01mif\u001b[39;00m preserve_line \u001b[38;5;28;01melse\u001b[39;00m \u001b[43msent_tokenize\u001b[49m\u001b[43m(\u001b[49m\u001b[43mtext\u001b[49m\u001b[43m,\u001b[49m\u001b[43m \u001b[49m\u001b[43mlanguage\u001b[49m\u001b[43m)\u001b[49m\n\u001b[32m    143\u001b[39m     \u001b[38;5;28;01mreturn\u001b[39;00m [\n\u001b[32m    144\u001b[39m         token \u001b[38;5;28;01mfor\u001b[39;00m sent \u001b[38;5;129;01min\u001b[39;00m sentences \u001b[38;5;28;01mfor\u001b[39;00m token \u001b[38;5;129;01min\u001b[39;00m _treebank_word_tokenizer.tokenize(sent)\n\u001b[32m    145\u001b[39m     ]\n",
      "\u001b[36mFile \u001b[39m\u001b[32m~/.python/current/lib/python3.12/site-packages/nltk/tokenize/__init__.py:119\u001b[39m, in \u001b[36msent_tokenize\u001b[39m\u001b[34m(text, language)\u001b[39m\n\u001b[32m    109\u001b[39m \u001b[38;5;28;01mdef\u001b[39;00m\u001b[38;5;250m \u001b[39m\u001b[34msent_tokenize\u001b[39m(text, language=\u001b[33m\"\u001b[39m\u001b[33menglish\u001b[39m\u001b[33m\"\u001b[39m):\n\u001b[32m    110\u001b[39m \u001b[38;5;250m    \u001b[39m\u001b[33;03m\"\"\"\u001b[39;00m\n\u001b[32m    111\u001b[39m \u001b[33;03m    Return a sentence-tokenized copy of *text*,\u001b[39;00m\n\u001b[32m    112\u001b[39m \u001b[33;03m    using NLTK's recommended sentence tokenizer\u001b[39;00m\n\u001b[32m   (...)\u001b[39m\u001b[32m    117\u001b[39m \u001b[33;03m    :param language: the model name in the Punkt corpus\u001b[39;00m\n\u001b[32m    118\u001b[39m \u001b[33;03m    \"\"\"\u001b[39;00m\n\u001b[32m--> \u001b[39m\u001b[32m119\u001b[39m     tokenizer = \u001b[43m_get_punkt_tokenizer\u001b[49m\u001b[43m(\u001b[49m\u001b[43mlanguage\u001b[49m\u001b[43m)\u001b[49m\n\u001b[32m    120\u001b[39m     \u001b[38;5;28;01mreturn\u001b[39;00m tokenizer.tokenize(text)\n",
      "\u001b[36mFile \u001b[39m\u001b[32m~/.python/current/lib/python3.12/site-packages/nltk/tokenize/__init__.py:105\u001b[39m, in \u001b[36m_get_punkt_tokenizer\u001b[39m\u001b[34m(language)\u001b[39m\n\u001b[32m     96\u001b[39m \u001b[38;5;129m@functools\u001b[39m.lru_cache\n\u001b[32m     97\u001b[39m \u001b[38;5;28;01mdef\u001b[39;00m\u001b[38;5;250m \u001b[39m\u001b[34m_get_punkt_tokenizer\u001b[39m(language=\u001b[33m\"\u001b[39m\u001b[33menglish\u001b[39m\u001b[33m\"\u001b[39m):\n\u001b[32m     98\u001b[39m \u001b[38;5;250m    \u001b[39m\u001b[33;03m\"\"\"\u001b[39;00m\n\u001b[32m     99\u001b[39m \u001b[33;03m    A constructor for the PunktTokenizer that utilizes\u001b[39;00m\n\u001b[32m    100\u001b[39m \u001b[33;03m    a lru cache for performance.\u001b[39;00m\n\u001b[32m   (...)\u001b[39m\u001b[32m    103\u001b[39m \u001b[33;03m    :type language: str\u001b[39;00m\n\u001b[32m    104\u001b[39m \u001b[33;03m    \"\"\"\u001b[39;00m\n\u001b[32m--> \u001b[39m\u001b[32m105\u001b[39m     \u001b[38;5;28;01mreturn\u001b[39;00m \u001b[43mPunktTokenizer\u001b[49m\u001b[43m(\u001b[49m\u001b[43mlanguage\u001b[49m\u001b[43m)\u001b[49m\n",
      "\u001b[36mFile \u001b[39m\u001b[32m~/.python/current/lib/python3.12/site-packages/nltk/tokenize/punkt.py:1744\u001b[39m, in \u001b[36mPunktTokenizer.__init__\u001b[39m\u001b[34m(self, lang)\u001b[39m\n\u001b[32m   1742\u001b[39m \u001b[38;5;28;01mdef\u001b[39;00m\u001b[38;5;250m \u001b[39m\u001b[34m__init__\u001b[39m(\u001b[38;5;28mself\u001b[39m, lang=\u001b[33m\"\u001b[39m\u001b[33menglish\u001b[39m\u001b[33m\"\u001b[39m):\n\u001b[32m   1743\u001b[39m     PunktSentenceTokenizer.\u001b[34m__init__\u001b[39m(\u001b[38;5;28mself\u001b[39m)\n\u001b[32m-> \u001b[39m\u001b[32m1744\u001b[39m     \u001b[38;5;28;43mself\u001b[39;49m\u001b[43m.\u001b[49m\u001b[43mload_lang\u001b[49m\u001b[43m(\u001b[49m\u001b[43mlang\u001b[49m\u001b[43m)\u001b[49m\n",
      "\u001b[36mFile \u001b[39m\u001b[32m~/.python/current/lib/python3.12/site-packages/nltk/tokenize/punkt.py:1749\u001b[39m, in \u001b[36mPunktTokenizer.load_lang\u001b[39m\u001b[34m(self, lang)\u001b[39m\n\u001b[32m   1746\u001b[39m \u001b[38;5;28;01mdef\u001b[39;00m\u001b[38;5;250m \u001b[39m\u001b[34mload_lang\u001b[39m(\u001b[38;5;28mself\u001b[39m, lang=\u001b[33m\"\u001b[39m\u001b[33menglish\u001b[39m\u001b[33m\"\u001b[39m):\n\u001b[32m   1747\u001b[39m     \u001b[38;5;28;01mfrom\u001b[39;00m\u001b[38;5;250m \u001b[39m\u001b[34;01mnltk\u001b[39;00m\u001b[34;01m.\u001b[39;00m\u001b[34;01mdata\u001b[39;00m\u001b[38;5;250m \u001b[39m\u001b[38;5;28;01mimport\u001b[39;00m find\n\u001b[32m-> \u001b[39m\u001b[32m1749\u001b[39m     lang_dir = \u001b[43mfind\u001b[49m\u001b[43m(\u001b[49m\u001b[33;43mf\u001b[39;49m\u001b[33;43m\"\u001b[39;49m\u001b[33;43mtokenizers/punkt_tab/\u001b[39;49m\u001b[38;5;132;43;01m{\u001b[39;49;00m\u001b[43mlang\u001b[49m\u001b[38;5;132;43;01m}\u001b[39;49;00m\u001b[33;43m/\u001b[39;49m\u001b[33;43m\"\u001b[39;49m\u001b[43m)\u001b[49m\n\u001b[32m   1750\u001b[39m     \u001b[38;5;28mself\u001b[39m._params = load_punkt_params(lang_dir)\n\u001b[32m   1751\u001b[39m     \u001b[38;5;28mself\u001b[39m._lang = lang\n",
      "\u001b[36mFile \u001b[39m\u001b[32m~/.python/current/lib/python3.12/site-packages/nltk/data.py:579\u001b[39m, in \u001b[36mfind\u001b[39m\u001b[34m(resource_name, paths)\u001b[39m\n\u001b[32m    577\u001b[39m sep = \u001b[33m\"\u001b[39m\u001b[33m*\u001b[39m\u001b[33m\"\u001b[39m * \u001b[32m70\u001b[39m\n\u001b[32m    578\u001b[39m resource_not_found = \u001b[33mf\u001b[39m\u001b[33m\"\u001b[39m\u001b[38;5;130;01m\\n\u001b[39;00m\u001b[38;5;132;01m{\u001b[39;00msep\u001b[38;5;132;01m}\u001b[39;00m\u001b[38;5;130;01m\\n\u001b[39;00m\u001b[38;5;132;01m{\u001b[39;00mmsg\u001b[38;5;132;01m}\u001b[39;00m\u001b[38;5;130;01m\\n\u001b[39;00m\u001b[38;5;132;01m{\u001b[39;00msep\u001b[38;5;132;01m}\u001b[39;00m\u001b[38;5;130;01m\\n\u001b[39;00m\u001b[33m\"\u001b[39m\n\u001b[32m--> \u001b[39m\u001b[32m579\u001b[39m \u001b[38;5;28;01mraise\u001b[39;00m \u001b[38;5;167;01mLookupError\u001b[39;00m(resource_not_found)\n",
      "\u001b[31mLookupError\u001b[39m: \n**********************************************************************\n  Resource \u001b[93mpunkt_tab\u001b[0m not found.\n  Please use the NLTK Downloader to obtain the resource:\n\n  \u001b[31m>>> import nltk\n  >>> nltk.download('punkt_tab')\n  \u001b[0m\n  For more information see: https://www.nltk.org/data.html\n\n  Attempted to load \u001b[93mtokenizers/punkt_tab/english/\u001b[0m\n\n  Searched in:\n    - '/home/codespace/nltk_data'\n    - '/home/codespace/.python/current/nltk_data'\n    - '/home/codespace/.python/current/share/nltk_data'\n    - '/home/codespace/.python/current/lib/nltk_data'\n    - '/usr/share/nltk_data'\n    - '/usr/local/share/nltk_data'\n    - '/usr/lib/nltk_data'\n    - '/usr/local/lib/nltk_data'\n**********************************************************************\n"
     ]
    }
   ],
   "source": [
    "# Tokenize the text into words\n",
    "# Splits the input text into a list of words and punctuation marks\n",
    "words = nltk.word_tokenize(text)\n",
    "print(\"Words:\", words)"
   ]
  },
  {
   "cell_type": "markdown",
   "metadata": {
    "id": "d17Cy9hFYb0c"
   },
   "source": [
    "# Preprocessing"
   ]
  },
  {
   "cell_type": "markdown",
   "metadata": {
    "id": "stAqpevPNx3V"
   },
   "source": [
    "The `isalnum()` method returns `True` if all characters in the string are either alphabetic (a-z, A-Z) or numeric (0-9). If the string contains any non-alphanumeric characters (e.g., spaces, punctuation, or symbols), the method returns `False`."
   ]
  },
  {
   "cell_type": "code",
   "execution_count": 20,
   "metadata": {
    "colab": {
     "base_uri": "https://localhost:8080/"
    },
    "collapsed": true,
    "executionInfo": {
     "elapsed": 18,
     "status": "ok",
     "timestamp": 1724946713457,
     "user": {
      "displayName": "Gladys Mawarni",
      "userId": "03879441175200282144"
     },
     "user_tz": -60
    },
    "id": "QJ2kHHnEYdHM",
    "outputId": "1de415ac-6ad5-44e0-a86c-09a6272c3623"
   },
   "outputs": [
    {
     "ename": "LookupError",
     "evalue": "\n**********************************************************************\n  Resource \u001b[93mpunkt_tab\u001b[0m not found.\n  Please use the NLTK Downloader to obtain the resource:\n\n  \u001b[31m>>> import nltk\n  >>> nltk.download('punkt_tab')\n  \u001b[0m\n  For more information see: https://www.nltk.org/data.html\n\n  Attempted to load \u001b[93mtokenizers/punkt_tab/english/\u001b[0m\n\n  Searched in:\n    - '/home/codespace/nltk_data'\n    - '/home/codespace/.python/current/nltk_data'\n    - '/home/codespace/.python/current/share/nltk_data'\n    - '/home/codespace/.python/current/lib/nltk_data'\n    - '/usr/share/nltk_data'\n    - '/usr/local/share/nltk_data'\n    - '/usr/lib/nltk_data'\n    - '/usr/local/lib/nltk_data'\n**********************************************************************\n",
     "output_type": "error",
     "traceback": [
      "\u001b[31m---------------------------------------------------------------------------\u001b[39m",
      "\u001b[31mLookupError\u001b[39m                               Traceback (most recent call last)",
      "\u001b[36mCell\u001b[39m\u001b[36m \u001b[39m\u001b[32mIn[20]\u001b[39m\u001b[32m, line 10\u001b[39m\n\u001b[32m      7\u001b[39m     \u001b[38;5;28;01mreturn\u001b[39;00m [word \u001b[38;5;28;01mfor\u001b[39;00m word \u001b[38;5;129;01min\u001b[39;00m tokens \u001b[38;5;28;01mif\u001b[39;00m word.isalnum()]\n\u001b[32m      9\u001b[39m \u001b[38;5;66;03m# The 'preprocess' function is applied to each document, and the tokens are joined back into a string\u001b[39;00m\n\u001b[32m---> \u001b[39m\u001b[32m10\u001b[39m preprocessed_docs = [\u001b[33m'\u001b[39m\u001b[33m \u001b[39m\u001b[33m'\u001b[39m.join(\u001b[43mpreprocess\u001b[49m\u001b[43m(\u001b[49m\u001b[43mdoc\u001b[49m\u001b[43m)\u001b[49m) \u001b[38;5;28;01mfor\u001b[39;00m doc \u001b[38;5;129;01min\u001b[39;00m documents]\n\u001b[32m     11\u001b[39m preprocessed_docs\n",
      "\u001b[36mCell\u001b[39m\u001b[36m \u001b[39m\u001b[32mIn[20]\u001b[39m\u001b[32m, line 4\u001b[39m, in \u001b[36mpreprocess\u001b[39m\u001b[34m(text)\u001b[39m\n\u001b[32m      2\u001b[39m \u001b[38;5;28;01mdef\u001b[39;00m\u001b[38;5;250m \u001b[39m\u001b[34mpreprocess\u001b[39m(text):\n\u001b[32m      3\u001b[39m     \u001b[38;5;66;03m# Tokenize the text into words and convert to lowercase\u001b[39;00m\n\u001b[32m----> \u001b[39m\u001b[32m4\u001b[39m     tokens = \u001b[43mnltk\u001b[49m\u001b[43m.\u001b[49m\u001b[43mword_tokenize\u001b[49m\u001b[43m(\u001b[49m\u001b[43mtext\u001b[49m\u001b[43m.\u001b[49m\u001b[43mlower\u001b[49m\u001b[43m(\u001b[49m\u001b[43m)\u001b[49m\u001b[43m)\u001b[49m\n\u001b[32m      6\u001b[39m     \u001b[38;5;66;03m# Return a list of alphanumeric words only (removing punctuation and special characters)\u001b[39;00m\n\u001b[32m      7\u001b[39m     \u001b[38;5;28;01mreturn\u001b[39;00m [word \u001b[38;5;28;01mfor\u001b[39;00m word \u001b[38;5;129;01min\u001b[39;00m tokens \u001b[38;5;28;01mif\u001b[39;00m word.isalnum()]\n",
      "\u001b[36mFile \u001b[39m\u001b[32m~/.python/current/lib/python3.12/site-packages/nltk/tokenize/__init__.py:142\u001b[39m, in \u001b[36mword_tokenize\u001b[39m\u001b[34m(text, language, preserve_line)\u001b[39m\n\u001b[32m    127\u001b[39m \u001b[38;5;28;01mdef\u001b[39;00m\u001b[38;5;250m \u001b[39m\u001b[34mword_tokenize\u001b[39m(text, language=\u001b[33m\"\u001b[39m\u001b[33menglish\u001b[39m\u001b[33m\"\u001b[39m, preserve_line=\u001b[38;5;28;01mFalse\u001b[39;00m):\n\u001b[32m    128\u001b[39m \u001b[38;5;250m    \u001b[39m\u001b[33;03m\"\"\"\u001b[39;00m\n\u001b[32m    129\u001b[39m \u001b[33;03m    Return a tokenized copy of *text*,\u001b[39;00m\n\u001b[32m    130\u001b[39m \u001b[33;03m    using NLTK's recommended word tokenizer\u001b[39;00m\n\u001b[32m   (...)\u001b[39m\u001b[32m    140\u001b[39m \u001b[33;03m    :type preserve_line: bool\u001b[39;00m\n\u001b[32m    141\u001b[39m \u001b[33;03m    \"\"\"\u001b[39;00m\n\u001b[32m--> \u001b[39m\u001b[32m142\u001b[39m     sentences = [text] \u001b[38;5;28;01mif\u001b[39;00m preserve_line \u001b[38;5;28;01melse\u001b[39;00m \u001b[43msent_tokenize\u001b[49m\u001b[43m(\u001b[49m\u001b[43mtext\u001b[49m\u001b[43m,\u001b[49m\u001b[43m \u001b[49m\u001b[43mlanguage\u001b[49m\u001b[43m)\u001b[49m\n\u001b[32m    143\u001b[39m     \u001b[38;5;28;01mreturn\u001b[39;00m [\n\u001b[32m    144\u001b[39m         token \u001b[38;5;28;01mfor\u001b[39;00m sent \u001b[38;5;129;01min\u001b[39;00m sentences \u001b[38;5;28;01mfor\u001b[39;00m token \u001b[38;5;129;01min\u001b[39;00m _treebank_word_tokenizer.tokenize(sent)\n\u001b[32m    145\u001b[39m     ]\n",
      "\u001b[36mFile \u001b[39m\u001b[32m~/.python/current/lib/python3.12/site-packages/nltk/tokenize/__init__.py:119\u001b[39m, in \u001b[36msent_tokenize\u001b[39m\u001b[34m(text, language)\u001b[39m\n\u001b[32m    109\u001b[39m \u001b[38;5;28;01mdef\u001b[39;00m\u001b[38;5;250m \u001b[39m\u001b[34msent_tokenize\u001b[39m(text, language=\u001b[33m\"\u001b[39m\u001b[33menglish\u001b[39m\u001b[33m\"\u001b[39m):\n\u001b[32m    110\u001b[39m \u001b[38;5;250m    \u001b[39m\u001b[33;03m\"\"\"\u001b[39;00m\n\u001b[32m    111\u001b[39m \u001b[33;03m    Return a sentence-tokenized copy of *text*,\u001b[39;00m\n\u001b[32m    112\u001b[39m \u001b[33;03m    using NLTK's recommended sentence tokenizer\u001b[39;00m\n\u001b[32m   (...)\u001b[39m\u001b[32m    117\u001b[39m \u001b[33;03m    :param language: the model name in the Punkt corpus\u001b[39;00m\n\u001b[32m    118\u001b[39m \u001b[33;03m    \"\"\"\u001b[39;00m\n\u001b[32m--> \u001b[39m\u001b[32m119\u001b[39m     tokenizer = \u001b[43m_get_punkt_tokenizer\u001b[49m\u001b[43m(\u001b[49m\u001b[43mlanguage\u001b[49m\u001b[43m)\u001b[49m\n\u001b[32m    120\u001b[39m     \u001b[38;5;28;01mreturn\u001b[39;00m tokenizer.tokenize(text)\n",
      "\u001b[36mFile \u001b[39m\u001b[32m~/.python/current/lib/python3.12/site-packages/nltk/tokenize/__init__.py:105\u001b[39m, in \u001b[36m_get_punkt_tokenizer\u001b[39m\u001b[34m(language)\u001b[39m\n\u001b[32m     96\u001b[39m \u001b[38;5;129m@functools\u001b[39m.lru_cache\n\u001b[32m     97\u001b[39m \u001b[38;5;28;01mdef\u001b[39;00m\u001b[38;5;250m \u001b[39m\u001b[34m_get_punkt_tokenizer\u001b[39m(language=\u001b[33m\"\u001b[39m\u001b[33menglish\u001b[39m\u001b[33m\"\u001b[39m):\n\u001b[32m     98\u001b[39m \u001b[38;5;250m    \u001b[39m\u001b[33;03m\"\"\"\u001b[39;00m\n\u001b[32m     99\u001b[39m \u001b[33;03m    A constructor for the PunktTokenizer that utilizes\u001b[39;00m\n\u001b[32m    100\u001b[39m \u001b[33;03m    a lru cache for performance.\u001b[39;00m\n\u001b[32m   (...)\u001b[39m\u001b[32m    103\u001b[39m \u001b[33;03m    :type language: str\u001b[39;00m\n\u001b[32m    104\u001b[39m \u001b[33;03m    \"\"\"\u001b[39;00m\n\u001b[32m--> \u001b[39m\u001b[32m105\u001b[39m     \u001b[38;5;28;01mreturn\u001b[39;00m \u001b[43mPunktTokenizer\u001b[49m\u001b[43m(\u001b[49m\u001b[43mlanguage\u001b[49m\u001b[43m)\u001b[49m\n",
      "\u001b[36mFile \u001b[39m\u001b[32m~/.python/current/lib/python3.12/site-packages/nltk/tokenize/punkt.py:1744\u001b[39m, in \u001b[36mPunktTokenizer.__init__\u001b[39m\u001b[34m(self, lang)\u001b[39m\n\u001b[32m   1742\u001b[39m \u001b[38;5;28;01mdef\u001b[39;00m\u001b[38;5;250m \u001b[39m\u001b[34m__init__\u001b[39m(\u001b[38;5;28mself\u001b[39m, lang=\u001b[33m\"\u001b[39m\u001b[33menglish\u001b[39m\u001b[33m\"\u001b[39m):\n\u001b[32m   1743\u001b[39m     PunktSentenceTokenizer.\u001b[34m__init__\u001b[39m(\u001b[38;5;28mself\u001b[39m)\n\u001b[32m-> \u001b[39m\u001b[32m1744\u001b[39m     \u001b[38;5;28;43mself\u001b[39;49m\u001b[43m.\u001b[49m\u001b[43mload_lang\u001b[49m\u001b[43m(\u001b[49m\u001b[43mlang\u001b[49m\u001b[43m)\u001b[49m\n",
      "\u001b[36mFile \u001b[39m\u001b[32m~/.python/current/lib/python3.12/site-packages/nltk/tokenize/punkt.py:1749\u001b[39m, in \u001b[36mPunktTokenizer.load_lang\u001b[39m\u001b[34m(self, lang)\u001b[39m\n\u001b[32m   1746\u001b[39m \u001b[38;5;28;01mdef\u001b[39;00m\u001b[38;5;250m \u001b[39m\u001b[34mload_lang\u001b[39m(\u001b[38;5;28mself\u001b[39m, lang=\u001b[33m\"\u001b[39m\u001b[33menglish\u001b[39m\u001b[33m\"\u001b[39m):\n\u001b[32m   1747\u001b[39m     \u001b[38;5;28;01mfrom\u001b[39;00m\u001b[38;5;250m \u001b[39m\u001b[34;01mnltk\u001b[39;00m\u001b[34;01m.\u001b[39;00m\u001b[34;01mdata\u001b[39;00m\u001b[38;5;250m \u001b[39m\u001b[38;5;28;01mimport\u001b[39;00m find\n\u001b[32m-> \u001b[39m\u001b[32m1749\u001b[39m     lang_dir = \u001b[43mfind\u001b[49m\u001b[43m(\u001b[49m\u001b[33;43mf\u001b[39;49m\u001b[33;43m\"\u001b[39;49m\u001b[33;43mtokenizers/punkt_tab/\u001b[39;49m\u001b[38;5;132;43;01m{\u001b[39;49;00m\u001b[43mlang\u001b[49m\u001b[38;5;132;43;01m}\u001b[39;49;00m\u001b[33;43m/\u001b[39;49m\u001b[33;43m\"\u001b[39;49m\u001b[43m)\u001b[49m\n\u001b[32m   1750\u001b[39m     \u001b[38;5;28mself\u001b[39m._params = load_punkt_params(lang_dir)\n\u001b[32m   1751\u001b[39m     \u001b[38;5;28mself\u001b[39m._lang = lang\n",
      "\u001b[36mFile \u001b[39m\u001b[32m~/.python/current/lib/python3.12/site-packages/nltk/data.py:579\u001b[39m, in \u001b[36mfind\u001b[39m\u001b[34m(resource_name, paths)\u001b[39m\n\u001b[32m    577\u001b[39m sep = \u001b[33m\"\u001b[39m\u001b[33m*\u001b[39m\u001b[33m\"\u001b[39m * \u001b[32m70\u001b[39m\n\u001b[32m    578\u001b[39m resource_not_found = \u001b[33mf\u001b[39m\u001b[33m\"\u001b[39m\u001b[38;5;130;01m\\n\u001b[39;00m\u001b[38;5;132;01m{\u001b[39;00msep\u001b[38;5;132;01m}\u001b[39;00m\u001b[38;5;130;01m\\n\u001b[39;00m\u001b[38;5;132;01m{\u001b[39;00mmsg\u001b[38;5;132;01m}\u001b[39;00m\u001b[38;5;130;01m\\n\u001b[39;00m\u001b[38;5;132;01m{\u001b[39;00msep\u001b[38;5;132;01m}\u001b[39;00m\u001b[38;5;130;01m\\n\u001b[39;00m\u001b[33m\"\u001b[39m\n\u001b[32m--> \u001b[39m\u001b[32m579\u001b[39m \u001b[38;5;28;01mraise\u001b[39;00m \u001b[38;5;167;01mLookupError\u001b[39;00m(resource_not_found)\n",
      "\u001b[31mLookupError\u001b[39m: \n**********************************************************************\n  Resource \u001b[93mpunkt_tab\u001b[0m not found.\n  Please use the NLTK Downloader to obtain the resource:\n\n  \u001b[31m>>> import nltk\n  >>> nltk.download('punkt_tab')\n  \u001b[0m\n  For more information see: https://www.nltk.org/data.html\n\n  Attempted to load \u001b[93mtokenizers/punkt_tab/english/\u001b[0m\n\n  Searched in:\n    - '/home/codespace/nltk_data'\n    - '/home/codespace/.python/current/nltk_data'\n    - '/home/codespace/.python/current/share/nltk_data'\n    - '/home/codespace/.python/current/lib/nltk_data'\n    - '/usr/share/nltk_data'\n    - '/usr/local/share/nltk_data'\n    - '/usr/lib/nltk_data'\n    - '/usr/local/lib/nltk_data'\n**********************************************************************\n"
     ]
    }
   ],
   "source": [
    "# Function to preprocess the text\n",
    "def preprocess(text):\n",
    "    # Tokenize the text into words and convert to lowercase\n",
    "    tokens = nltk.word_tokenize(text.lower())\n",
    "\n",
    "    # Return a list of alphanumeric words only (removing punctuation and special characters)\n",
    "    return [word for word in tokens if word.isalnum()]\n",
    "\n",
    "# The 'preprocess' function is applied to each document, and the tokens are joined back into a string\n",
    "preprocessed_docs = [' '.join(preprocess(doc)) for doc in documents]\n",
    "preprocessed_docs"
   ]
  },
  {
   "cell_type": "markdown",
   "metadata": {
    "id": "EfRUgVOodKsU"
   },
   "source": [
    "# TF-IDF"
   ]
  },
  {
   "cell_type": "code",
   "execution_count": null,
   "metadata": {
    "id": "qxPBZ8FTYiNq"
   },
   "outputs": [],
   "source": [
    "# Create an instance of TfidfVectorizer\n",
    "vectorizer = TfidfVectorizer()\n",
    "# Fit the vectorizer to the preprocessed documents and transform them into a TF-IDF matrix\n",
    "tfidf_matrix = vectorizer.fit_transform(preprocessed_docs)"
   ]
  },
  {
   "cell_type": "code",
   "execution_count": null,
   "metadata": {
    "id": "q7u7WJJkVSwd"
   },
   "outputs": [],
   "source": [
    "# Query the index\n",
    "query = \"Croatia sailing\""
   ]
  },
  {
   "cell_type": "code",
   "execution_count": null,
   "metadata": {
    "id": "cM3B5Q5d43k8"
   },
   "outputs": [],
   "source": [
    "# Transform the query into a TF-IDF vector\n",
    "query_vec = vectorizer.transform([query])\n",
    "# Compute the similarity between the query vector and each document vector\n",
    "results = np.dot(tfidf_matrix, query_vec.T).toarray()"
   ]
  },
  {
   "cell_type": "code",
   "execution_count": null,
   "metadata": {
    "id": "ReeQcmfnYnOF"
   },
   "outputs": [],
   "source": [
    "# Function to search the documents based on a query\n",
    "def search(query, vectorizer, tfidf_matrix):\n",
    "    # Transform the query into a TF-IDF vector using the provided vectorizer\n",
    "    query_vec = vectorizer.transform([query])\n",
    "\n",
    "    # Compute the similarity between the query vector and each document vector\n",
    "    # This is done by calculating the dot product of the TF-IDF matrix and the query vector\n",
    "    results = np.dot(tfidf_matrix, query_vec.T).toarray()\n",
    "\n",
    "    # Return the array of similarity scores\n",
    "    return results"
   ]
  },
  {
   "cell_type": "code",
   "execution_count": null,
   "metadata": {
    "colab": {
     "base_uri": "https://localhost:8080/"
    },
    "executionInfo": {
     "elapsed": 15,
     "status": "ok",
     "timestamp": 1724946713458,
     "user": {
      "displayName": "Gladys Mawarni",
      "userId": "03879441175200282144"
     },
     "user_tz": -60
    },
    "id": "RZTJCDVSYpp7",
    "outputId": "8b819baa-1ea1-482c-b023-e043a39724b1"
   },
   "outputs": [
    {
     "name": "stdout",
     "output_type": "stream",
     "text": [
      "Score 0.3463326177734656 Document Croatia has beautiful islands perfect for sailing.\n",
      "Score 0.30524834901003683 Document The Dalmatian Coast is a famous region for sailing in Croatia.\n",
      "Score 0.28947714416154907 Document The Kornati Islands National Park is a popular sailing destination in Croatia.\n",
      "Score 0.28789612508093243 Document Sailing in Croatia offers stunning views of the Adriatic Sea.\n",
      "Score 0.2697663666536758 Document The best sailing routes in Croatia include Dubrovnik and Split.\n",
      "Score 0.2644371419827757 Document The island of Cres is one of the largest in Croatia and a great destination for sailing.\n",
      "Score 0.25298310932249707 Document Sailing in Croatia is best enjoyed during the summer months.\n",
      "Score 0.24809611448223312 Document The city of Rovinj is a charming starting point for a sailing trip in Croatia.\n",
      "Score 0.2420028259710012 Document Sailing in Croatia often includes visiting UNESCO World Heritage sites.\n",
      "Score 0.22863442162734365 Document Sailing in Croatia often involves stopping at picturesque fishing villages.\n",
      "Score 0.22806770911560081 Document Sailing in Croatia allows you to explore hidden coves and bays.\n",
      "Score 0.22705354408637918 Document Sailing around the Brijuni Islands offers a glimpse of Croatia's natural beauty and wildlife.\n",
      "Score 0.2237608486238786 Document The waters around Croatia are known for being calm and clear, ideal for sailing.\n",
      "Score 0.21291946178423374 Document Sailing to the island of Vis allows you to experience a more remote part of Croatia.\n",
      "Score 0.20876142357900254 Document Sailing in Croatia provides opportunities to visit ancient fortresses and castles along the coast.\n",
      "Score 0.16323254634900367 Document Croatia is famous for its beautiful coastline and crystal-clear waters.\n",
      "Score 0.1561224238877196 Document Sailors in Croatia can explore over 1,200 islands.\n",
      "Score 0.15024216891927028 Document Croatia is known for its delicious seafood cuisine.\n",
      "Score 0.14262231277766355 Document The island of Hvar is known for its vibrant nightlife and sailing opportunities.\n",
      "Score 0.1341172613847461 Document The city of Pula, with its Roman amphitheater, is a unique sailing destination.\n",
      "Score 0.13147866648060116 Document Sailing around the island of Lastovo provides a more secluded experience.\n",
      "Score 0.1309156491590727 Document The island of Brač is known for its beautiful beaches and great sailing conditions.\n",
      "Score 0.13088904245703742 Document The city of Rijeka is an important cultural and historical sailing destination.\n",
      "Score 0.13063327992289875 Document The Makarska Riviera is known for its stunning coastline and sailing opportunities.\n",
      "Score 0.13059846989505042 Document Sailing around the island of Mljet offers a peaceful and scenic experience.\n",
      "Score 0.12986737471906057 Document Sailing from Split to Dubrovnik offers breathtaking coastal scenery.\n",
      "Score 0.12744613919344638 Document Sailing to the island of Rab, known for its medieval old town, is a great experience.\n",
      "Score 0.12483007236047007 Document Sailing to the island of Lošinj, known for its health tourism, is a relaxing experience.\n",
      "Score 0.12321973759820971 Document Sailors in Croatia can visit ancient Roman ruins in Split.\n",
      "Score 0.12163092541462697 Document Croatia's Adriatic coast is dotted with charming fishing villages.\n",
      "Score 0.12125817645167505 Document Croatia has a Mediterranean climate, making it a great destination year-round.\n",
      "Score 0.12005539867434271 Document The island of Cres is one of the largest in Croatia and has a diverse wildlife.\n",
      "Score 0.11981941859362372 Document Sailing to the island of Vis provides access to the famous Blue Cave.\n",
      "Score 0.1176574675050005 Document The city of Rijeka is an important cultural and economic center in Croatia.\n",
      "Score 0.11740616543771362 Document The medieval town of Rovinj is one of the most picturesque places in Croatia.\n",
      "Score 0.11727830167035744 Document The island of Lastovo is one of Croatia's most remote and tranquil destinations.\n",
      "Score 0.11541319037346488 Document The island of Dugi Otok is known for its dramatic cliffs and beautiful sailing waters.\n",
      "Score 0.1147010873095282 Document The Pakleni Islands near Hvar are a popular spot for sailing yachts.\n",
      "Score 0.11454866136363852 Document Sailing to the Elaphiti Islands offers a mix of natural beauty and cultural sites.\n",
      "Score 0.1132545369505073 Document Croatia has over a thousand islands, each with its unique charm.\n",
      "Score 0.11309818193526715 Document Sailing around the island of Murter gives access to the Kornati Islands National Park.\n",
      "Score 0.1129569282896039 Document The city of Hvar is one of the sunniest places in Europe and a popular sailing hub.\n",
      "Score 0.11227415246287374 Document Sailors in Croatia can enjoy local wines at many coastal vineyards.\n",
      "Score 0.11117942940045264 Document Croatia has a rich history dating back to the Roman Empire.\n",
      "Score 0.11093168258101459 Document Sailors can enjoy fresh seafood at many coastal restaurants in Croatia.\n",
      "Score 0.10791901765546798 Document The Diocletian's Palace in Split is one of the most famous Roman ruins in Croatia.\n",
      "Score 0.1050687012310533 Document Sailing to the island of Šolta offers a quiet escape from the more touristy areas.\n",
      "Score 0.10501606213537161 Document The island of Krk is accessible by bridge and is a popular starting point for sailing trips.\n",
      "Score 0.10472003325540193 Document The island of Korčula is believed to be the birthplace of Marco Polo and is a popular sailing destination.\n",
      "Score 0.1023429348672811 Document The city of Osijek is located in the eastern part of Croatia and is known for its Baroque style.\n",
      "Score 0.10208762434223215 Document Croatia has a diverse cultural heritage, with influences from Italy, Hungary, and Austria.\n",
      "Score 0.1013235748210275 Document The city of Zagreb is the capital of Croatia and offers a mix of modern and historic attractions.\n",
      "Score 0.09688848166053415 Document The city of Kotor, just across the border in Montenegro, is a popular extension for Croatian sailing trips.\n",
      "Score 0.09577011177834503 Document Croatia's wine regions produce some excellent wines, especially in Istria and Dalmatia.\n",
      "Score 0.09509066829897503 Document Croatia's national parks, like Krka and Plitvice, are ideal for hiking and nature lovers.\n",
      "Score 0.09094918172306897 Document The beaches in Croatia are among the best in Europe, with many receiving Blue Flag status.\n",
      "Score 0.0 Document The city of Sibenik is home to the impressive St. James's Cathedral, a UNESCO World Heritage site.\n",
      "Score 0.0 Document Sailors can experience the traditional Dalmatian way of life in many coastal villages.\n",
      "Score 0.0 Document The city of Knin is known for its historic fortress and beautiful scenery.\n",
      "Score 0.0 Document The island of Krk is the largest island in the Adriatic Sea.\n",
      "Score 0.0 Document The island of Hvar is a popular destination for celebrities and high-end travelers.\n",
      "Score 0.0 Document The city of Varazdin is known for its baroque buildings and vibrant cultural scene.\n",
      "Score 0.0 Document The coastal town of Senj is known for its carnival and Nehaj Fortress.\n",
      "Score 0.0 Document The island of Rab is famous for its medieval old town and stunning beaches.\n",
      "Score 0.0 Document The island of Mljet is home to a national park and is ideal for nature lovers.\n",
      "Score 0.0 Document The island of Korcula is believed to be the birthplace of Marco Polo.\n",
      "Score 0.0 Document The town of Motovun in Istria is famous for its film festival.\n",
      "Score 0.0 Document The city of Nin is known for its ancient salt pans and historic church.\n",
      "Score 0.0 Document The city of Vukovar is known for its role in the Croatian War of Independence.\n",
      "Score 0.0 Document The city of Opatija is known for its grand villas and seaside promenade.\n",
      "Score 0.0 Document The city of Porec is known for the Euphrasian Basilica, a UNESCO World Heritage site.\n",
      "Score 0.0 Document The island of Brac is home to the famous Zlatni Rat beach, known for its changing shape.\n",
      "Score 0.0 Document The Blue Cave on Biševo Island is a must-see for sailors.\n",
      "Score 0.0 Document The island of Pag is famous for its cheese and nightlife, and is a fun stop for sailors.\n",
      "Score 0.0 Document Sailors can enjoy snorkeling in the clear waters of the Adriatic Sea.\n",
      "Score 0.0 Document The city of Zadar is famous for its sunsets, which sailors can enjoy from the sea.\n",
      "Score 0.0 Document The island of Pag is famous for its cheese, which is considered a delicacy.\n",
      "Score 0.0 Document The island of Losinj is famous for its health tourism and clean air.\n",
      "Score 0.0 Document The city of Dubrovnik, with its famous city walls, is a top destination for sailors.\n",
      "Score 0.0 Document The island of Mljet has a national park that is perfect for exploring by sailboat.\n",
      "Score 0.0 Document The Istrian Peninsula is famous for its truffles and gourmet food.\n",
      "Score 0.0 Document The town of Cavtat is a quieter alternative to nearby Dubrovnik.\n",
      "Score 0.0 Document The Peljesac Peninsula is known for its vineyards and wine production.\n",
      "Score 0.0 Document The Dubrovnik Summer Festival is a major cultural event featuring theater, music, and dance performances.\n",
      "Score 0.0 Document The city of Zadar is famous for its unique Sea Organ, an architectural sound art object.\n",
      "Score 0.0 Document The city of Trogir, with its historic architecture, is a great place to dock.\n",
      "Score 0.0 Document The Plitvice Lakes National Park is a UNESCO World Heritage site known for its stunning waterfalls and lakes.\n",
      "Score 0.0 Document The city of Dubrovnik is often called the 'Pearl of the Adriatic'.\n",
      "Score 0.0 Document The town of Trogir is a UNESCO World Heritage site known for its medieval architecture.\n",
      "Score 0.0 Document The Brijuni Islands are a national park and a former presidential retreat.\n",
      "Score 0.0 Document The ancient city of Pula is known for its well-preserved Roman amphitheater.\n",
      "Score 0.0 Document The city of Opatija is a historical seaside resort that welcomes sailors.\n",
      "Score 0.0 Document The island of Vis was a military base and was closed to tourism until the 1990s.\n",
      "Score 0.0 Document The city of Split is a major port and gateway to the Dalmatian islands.\n",
      "Score 0.0 Document The city of Buzet in Istria is known as the 'City of Truffles'.\n",
      "Score 0.0 Document The city of Karlovac is known for its parks and the rivers that flow through it.\n",
      "Score 0.0 Document The city of Šibenik is a UNESCO World Heritage site and a great stop for sailors.\n",
      "Score 0.0 Document The town of Samobor is famous for its traditional cream cake called 'kremsnita'.\n",
      "Score 0.0 Document Many sailors start their Croatian adventure from the city of Zadar.\n",
      "Score 0.0 Document The coastal town of Makarska is known for its beautiful beaches and lively nightlife.\n"
     ]
    }
   ],
   "source": [
    "# Sort and Display the results\n",
    "results = search(query, vectorizer, tfidf_matrix)\n",
    "\n",
    "# Sort the results in descending format based on the score\n",
    "sorted_results = sorted(enumerate(results), key=lambda x: x[1][0], reverse=True)\n",
    "\n",
    "# Iterate over the sorted results and print the document with scores\n",
    "for idx, score in sorted_results:\n",
    "  print(f\"Score {score[0]} Document {documents[idx]}\") # Use idx (integer) to access document"
   ]
  },
  {
   "cell_type": "markdown",
   "metadata": {
    "id": "3_GF-f4ZdWeD"
   },
   "source": [
    "# Boolean"
   ]
  },
  {
   "cell_type": "code",
   "execution_count": null,
   "metadata": {
    "id": "jw5wdDjFCpYA"
   },
   "outputs": [],
   "source": [
    "# Process the text: tokenization, only alphanumeric, lower case, no stopwords except logical operators\n",
    "def process_text(text):\n",
    "    # Convert text to lower case\n",
    "    processed_text = text.lower()\n",
    "\n",
    "    # Tokenize the text\n",
    "    processed_text = nltk.word_tokenize(processed_text)\n",
    "\n",
    "    # Filter out non-alphanumeric tokens\n",
    "    processed_text = [word for word in processed_text if word.isalnum()]\n",
    "\n",
    "    # Define stopwords while excluding logical operators\n",
    "    stopwords = set(nltk.corpus.stopwords.words(\"english\")) - {\"and\", \"or\", \"not\"}\n",
    "\n",
    "    # Filter out stopwords except logical operators\n",
    "    processed_text = [word for word in processed_text if word not in stopwords]\n",
    "\n",
    "    return processed_text"
   ]
  },
  {
   "cell_type": "code",
   "execution_count": null,
   "metadata": {
    "id": "QusrBKHnY9ry"
   },
   "outputs": [],
   "source": [
    "# Simplified Boolean Retrieval System to handle the 'NOT' operator correctly\n",
    "def boolean_search(query, documents):\n",
    "    # Preprocess the query and split it into tokens\n",
    "    query_tokens = process_text(query)\n",
    "\n",
    "    # Initialize an empty list to store the matching results\n",
    "    results = []\n",
    "\n",
    "    # Iterate over each document in the collection\n",
    "    for doc_id, doc in enumerate(documents):\n",
    "        # Preprocess the current document and convert it into a set of unique tokens\n",
    "        doc_tokens = set(process_text(doc))\n",
    "\n",
    "        # Initialize a flag to determine if the document should be included in the results\n",
    "        include_doc = False\n",
    "\n",
    "        # Iterate through each token in the query\n",
    "        for i, token in enumerate(query_tokens):\n",
    "            # Handle the 'AND' operator\n",
    "            if token == \"and\" and i + 1 < len(query_tokens):\n",
    "                # If the 'AND' operator is found, check if the next token is in the document\n",
    "                include_doc = include_doc and (query_tokens[i + 1] in doc_tokens)\n",
    "            # Handle the 'OR' operator\n",
    "            elif token == \"or\" and i + 1 < len(query_tokens):\n",
    "                # If the 'OR' operator is found, include the document if the next token is present\n",
    "                include_doc = include_doc or (query_tokens[i + 1] in doc_tokens)\n",
    "            # Handle the 'NOT' operator\n",
    "            elif token == \"not\" and i + 1 < len(query_tokens):\n",
    "                # If the 'NOT' operator is found, exclude the document if the next token is present\n",
    "                if query_tokens[i + 1] in doc_tokens:\n",
    "                    include_doc = False\n",
    "                    break  # Exit the loop early as this document should be excluded\n",
    "            else:\n",
    "                # For normal tokens (i.e., not operators), check if the token is in the document\n",
    "                # If this is the first token, it determines the initial inclusion status\n",
    "                # If it's subsequent, it combines with previous logic using 'OR'\n",
    "                include_doc = token in doc_tokens or include_doc\n",
    "\n",
    "        # After processing all tokens in the query, check if the document should be included\n",
    "        if include_doc:\n",
    "            # If the document matches the query, add it to the results list\n",
    "            results.append((doc_id, doc))\n",
    "\n",
    "    # Return the list of documents that match the query\n",
    "    return results\n"
   ]
  },
  {
   "cell_type": "code",
   "execution_count": null,
   "metadata": {
    "colab": {
     "base_uri": "https://localhost:8080/"
    },
    "collapsed": true,
    "executionInfo": {
     "elapsed": 364,
     "status": "ok",
     "timestamp": 1724947368210,
     "user": {
      "displayName": "Gladys Mawarni",
      "userId": "03879441175200282144"
     },
     "user_tz": -60
    },
    "id": "fTMrxwDQieWU",
    "outputId": "e17bec55-08bc-4a5a-a2ee-0aa44fc4237c"
   },
   "outputs": [
    {
     "name": "stdout",
     "output_type": "stream",
     "text": [
      "Boolean Search Results for query 'sailing not croatia':\n",
      "Document ID: 1, Document: The Makarska Riviera is known for its stunning coastline and sailing opportunities.\n",
      "Document ID: 4, Document: The island of Brač is known for its beautiful beaches and great sailing conditions.\n",
      "Document ID: 5, Document: Sailing to the island of Rab, known for its medieval old town, is a great experience.\n",
      "Document ID: 6, Document: The Pakleni Islands near Hvar are a popular spot for sailing yachts.\n",
      "Document ID: 20, Document: The island of Dugi Otok is known for its dramatic cliffs and beautiful sailing waters.\n",
      "Document ID: 24, Document: The city of Kotor, just across the border in Montenegro, is a popular extension for Croatian sailing trips.\n",
      "Document ID: 29, Document: Sailing to the island of Lošinj, known for its health tourism, is a relaxing experience.\n",
      "Document ID: 30, Document: The island of Hvar is known for its vibrant nightlife and sailing opportunities.\n",
      "Document ID: 31, Document: The island of Korčula is believed to be the birthplace of Marco Polo and is a popular sailing destination.\n",
      "Document ID: 36, Document: Sailing around the island of Mljet offers a peaceful and scenic experience.\n",
      "Document ID: 46, Document: Sailing to the island of Šolta offers a quiet escape from the more touristy areas.\n",
      "Document ID: 50, Document: The island of Krk is accessible by bridge and is a popular starting point for sailing trips.\n",
      "Document ID: 66, Document: Sailing around the island of Murter gives access to the Kornati Islands National Park.\n",
      "Document ID: 68, Document: Sailing from Split to Dubrovnik offers breathtaking coastal scenery.\n",
      "Document ID: 70, Document: The city of Hvar is one of the sunniest places in Europe and a popular sailing hub.\n",
      "Document ID: 73, Document: The city of Pula, with its Roman amphitheater, is a unique sailing destination.\n",
      "Document ID: 78, Document: The city of Rijeka is an important cultural and historical sailing destination.\n",
      "Document ID: 81, Document: Sailing to the Elaphiti Islands offers a mix of natural beauty and cultural sites.\n",
      "Document ID: 90, Document: Sailing to the island of Vis provides access to the famous Blue Cave.\n",
      "Document ID: 96, Document: Sailing around the island of Lastovo provides a more secluded experience.\n"
     ]
    }
   ],
   "source": [
    "# Define the search query\n",
    "query = \"sailing not croatia\"\n",
    "\n",
    "# Perform a boolean search on the documents using the query\n",
    "boolean_results = boolean_search(query, documents)\n",
    "\n",
    "# Print the results of the boolean search\n",
    "print(\"Boolean Search Results for query '{}':\".format(query))\n",
    "\n",
    "# Iterate through the search results and print the document ID and content\n",
    "for doc_id, doc in boolean_results:\n",
    "    print(\"Document ID: {}, Document: {}\".format(doc_id, doc))"
   ]
  },
  {
   "cell_type": "markdown",
   "metadata": {
    "id": "095fBipSi4md"
   },
   "source": [
    "# Probabilistic Retrieval Model"
   ]
  },
  {
   "cell_type": "code",
   "execution_count": 3,
   "metadata": {
    "colab": {
     "base_uri": "https://localhost:8080/"
    },
    "executionInfo": {
     "elapsed": 9981,
     "status": "ok",
     "timestamp": 1734361052963,
     "user": {
      "displayName": "Gladys Mawarni",
      "userId": "03879441175200282144"
     },
     "user_tz": 0
    },
    "id": "1_Imp1KyjCYl",
    "outputId": "e564eb3d-f5c7-4c5f-da1e-ba878d2a1d8a"
   },
   "outputs": [
    {
     "name": "stdout",
     "output_type": "stream",
     "text": [
      "Collecting rank_bm25\n",
      "  Downloading rank_bm25-0.2.2-py3-none-any.whl.metadata (3.2 kB)\n",
      "Requirement already satisfied: numpy in /usr/local/lib/python3.10/dist-packages (from rank_bm25) (1.26.4)\n",
      "Downloading rank_bm25-0.2.2-py3-none-any.whl (8.6 kB)\n",
      "Installing collected packages: rank_bm25\n",
      "Successfully installed rank_bm25-0.2.2\n"
     ]
    }
   ],
   "source": [
    "# Install the rank_bm25 library\n",
    "# BM25 is a probabilistic-based ranking function used in information retrieval to rank documents\n",
    "!pip install rank_bm25"
   ]
  },
  {
   "cell_type": "code",
   "execution_count": 4,
   "metadata": {
    "executionInfo": {
     "elapsed": 7,
     "status": "ok",
     "timestamp": 1734361052964,
     "user": {
      "displayName": "Gladys Mawarni",
      "userId": "03879441175200282144"
     },
     "user_tz": 0
    },
    "id": "k8JTa-SBi7lS"
   },
   "outputs": [],
   "source": [
    "# Import the BM25Okapi class for BM25 ranking\n",
    "from rank_bm25 import BM25Okapi"
   ]
  },
  {
   "cell_type": "code",
   "execution_count": null,
   "metadata": {
    "id": "wSd5R_A3i8rg"
   },
   "outputs": [],
   "source": [
    "# Tokenize the documents for BM25\n",
    "tokenized_docs = [process_text(doc) for doc in documents]"
   ]
  },
  {
   "cell_type": "code",
   "execution_count": null,
   "metadata": {
    "id": "s5gbdOerjMwO"
   },
   "outputs": [],
   "source": [
    "# Initialize BM25 model\n",
    "bm25 = BM25Okapi(tokenized_docs)"
   ]
  },
  {
   "cell_type": "code",
   "execution_count": null,
   "metadata": {
    "id": "ok5_y914jNmB"
   },
   "outputs": [],
   "source": [
    "# Function to perform a BM25 search on the documents\n",
    "def bm25_search(query, bm25):\n",
    "    # Process the query text\n",
    "    query_tokens = process_text(query)\n",
    "\n",
    "    # Get the BM25 scores for the query against the indexed documents\n",
    "    results = bm25.get_scores(query_tokens)\n",
    "\n",
    "    # Return the BM25 scores\n",
    "    return results"
   ]
  },
  {
   "cell_type": "code",
   "execution_count": null,
   "metadata": {
    "id": "EknE-oNLjRJg"
   },
   "outputs": [],
   "source": [
    "# Perform BM25 search to get relevance scores for the query\n",
    "bm25_results = bm25_search(query, bm25)"
   ]
  },
  {
   "cell_type": "code",
   "execution_count": null,
   "metadata": {
    "colab": {
     "base_uri": "https://localhost:8080/"
    },
    "executionInfo": {
     "elapsed": 17,
     "status": "ok",
     "timestamp": 1724947382476,
     "user": {
      "displayName": "Gladys Mawarni",
      "userId": "03879441175200282144"
     },
     "user_tz": -60
    },
    "id": "daoWbLU1jVAE",
    "outputId": "8ae1dc55-c02a-496c-8aa9-e804a201651b"
   },
   "outputs": [
    {
     "name": "stdout",
     "output_type": "stream",
     "text": [
      "\n",
      "BM25 Search Results for query 'sailing not croatia':\n",
      "Score: 1.4248, Document: Croatia has beautiful islands perfect for sailing.\n",
      "Score: 1.3348, Document: The Dalmatian Coast is a famous region for sailing in Croatia.\n",
      "Score: 1.3348, Document: Sailing in Croatia is best enjoyed during the summer months.\n",
      "Score: 1.2556, Document: Sailing in Croatia offers stunning views of the Adriatic Sea.\n",
      "Score: 1.1852, Document: The Kornati Islands National Park is a popular sailing destination in Croatia.\n",
      "Score: 1.1852, Document: The best sailing routes in Croatia include Dubrovnik and Split.\n",
      "Score: 1.1852, Document: Sailing to the island of Vis allows you to experience a more remote part of Croatia.\n",
      "Score: 1.1852, Document: Sailing in Croatia often involves stopping at picturesque fishing villages.\n",
      "Score: 1.1852, Document: The city of Rovinj is a charming starting point for a sailing trip in Croatia.\n",
      "Score: 1.1852, Document: Sailing in Croatia allows you to explore hidden coves and bays.\n",
      "Score: 1.1223, Document: Sailing in Croatia often includes visiting UNESCO World Heritage sites.\n",
      "Score: 1.1223, Document: The island of Cres is one of the largest in Croatia and a great destination for sailing.\n",
      "Score: 1.1223, Document: The waters around Croatia are known for being calm and clear, ideal for sailing.\n",
      "Score: 1.0146, Document: Sailing in Croatia provides opportunities to visit ancient fortresses and castles along the coast.\n",
      "Score: 1.0146, Document: Sailing around the Brijuni Islands offers a glimpse of Croatia's natural beauty and wildlife.\n",
      "Score: 0.7360, Document: Sailors in Croatia can explore over 1,200 islands.\n",
      "Score: 0.6864, Document: Croatia is known for its delicious seafood cuisine.\n",
      "Score: 0.6864, Document: Croatia has over a thousand islands, each with its unique charm.\n",
      "Score: 0.6507, Document: Sailing from Split to Dubrovnik offers breathtaking coastal scenery.\n",
      "Score: 0.6507, Document: Sailing around the island of Lastovo provides a more secluded experience.\n",
      "Score: 0.6507, Document: The city of Pula, with its Roman amphitheater, is a unique sailing destination.\n",
      "Score: 0.6430, Document: Croatia has a Mediterranean climate, making it a great destination year-round.\n",
      "Score: 0.6430, Document: Croatia is famous for its beautiful coastline and crystal-clear waters.\n",
      "Score: 0.6142, Document: Sailing to the island of Lošinj, known for its health tourism, is a relaxing experience.\n",
      "Score: 0.6142, Document: The Pakleni Islands near Hvar are a popular spot for sailing yachts.\n",
      "Score: 0.6142, Document: The Makarska Riviera is known for its stunning coastline and sailing opportunities.\n",
      "Score: 0.6142, Document: The city of Rijeka is an important cultural and historical sailing destination.\n",
      "Score: 0.6142, Document: The island of Hvar is known for its vibrant nightlife and sailing opportunities.\n",
      "Score: 0.6142, Document: Sailing to the island of Šolta offers a quiet escape from the more touristy areas.\n",
      "Score: 0.6142, Document: Sailing to the island of Vis provides access to the famous Blue Cave.\n",
      "Score: 0.6049, Document: The medieval town of Rovinj is one of the most picturesque places in Croatia.\n",
      "Score: 0.6049, Document: Croatia's Adriatic coast is dotted with charming fishing villages.\n",
      "Score: 0.6049, Document: Croatia has a rich history dating back to the Roman Empire.\n",
      "Score: 0.6049, Document: Sailors in Croatia can visit ancient Roman ruins in Split.\n",
      "Score: 0.5816, Document: Sailing around the island of Mljet offers a peaceful and scenic experience.\n",
      "Score: 0.5816, Document: Sailing to the island of Rab, known for its medieval old town, is a great experience.\n",
      "Score: 0.5816, Document: The island of Brač is known for its beautiful beaches and great sailing conditions.\n",
      "Score: 0.5709, Document: The Diocletian's Palace in Split is one of the most famous Roman ruins in Croatia.\n",
      "Score: 0.5709, Document: The island of Cres is one of the largest in Croatia and has a diverse wildlife.\n",
      "Score: 0.5709, Document: Sailors in Croatia can enjoy local wines at many coastal vineyards.\n",
      "Score: 0.5709, Document: The island of Lastovo is one of Croatia's most remote and tranquil destinations.\n",
      "Score: 0.5709, Document: The city of Rijeka is an important cultural and economic center in Croatia.\n",
      "Score: 0.5709, Document: Sailors can enjoy fresh seafood at many coastal restaurants in Croatia.\n",
      "Score: 0.5523, Document: Sailing around the island of Murter gives access to the Kornati Islands National Park.\n",
      "Score: 0.5523, Document: The island of Dugi Otok is known for its dramatic cliffs and beautiful sailing waters.\n",
      "Score: 0.5523, Document: Sailing to the Elaphiti Islands offers a mix of natural beauty and cultural sites.\n",
      "Score: 0.5523, Document: The city of Kotor, just across the border in Montenegro, is a popular extension for Croatian sailing trips.\n",
      "Score: 0.5523, Document: The city of Hvar is one of the sunniest places in Europe and a popular sailing hub.\n",
      "Score: 0.5523, Document: The island of Korčula is believed to be the birthplace of Marco Polo and is a popular sailing destination.\n",
      "Score: 0.5523, Document: The island of Krk is accessible by bridge and is a popular starting point for sailing trips.\n",
      "Score: 0.5406, Document: Croatia has a diverse cultural heritage, with influences from Italy, Hungary, and Austria.\n",
      "Score: 0.5134, Document: The city of Osijek is located in the eastern part of Croatia and is known for its Baroque style.\n",
      "Score: 0.5134, Document: Croatia's wine regions produce some excellent wines, especially in Istria and Dalmatia.\n",
      "Score: 0.5134, Document: The beaches in Croatia are among the best in Europe, with many receiving Blue Flag status.\n",
      "Score: 0.4888, Document: The city of Zagreb is the capital of Croatia and offers a mix of modern and historic attractions.\n",
      "Score: 0.4664, Document: Croatia's national parks, like Krka and Plitvice, are ideal for hiking and nature lovers.\n",
      "Score: 0.0000, Document: The town of Samobor is famous for its traditional cream cake called 'kremsnita'.\n",
      "Score: 0.0000, Document: The city of Nin is known for its ancient salt pans and historic church.\n",
      "Score: 0.0000, Document: The town of Motovun in Istria is famous for its film festival.\n",
      "Score: 0.0000, Document: The island of Korcula is believed to be the birthplace of Marco Polo.\n",
      "Score: 0.0000, Document: The city of Sibenik is home to the impressive St. James's Cathedral, a UNESCO World Heritage site.\n",
      "Score: 0.0000, Document: The city of Šibenik is a UNESCO World Heritage site and a great stop for sailors.\n",
      "Score: 0.0000, Document: The coastal town of Senj is known for its carnival and Nehaj Fortress.\n",
      "Score: 0.0000, Document: Sailors can experience the traditional Dalmatian way of life in many coastal villages.\n",
      "Score: 0.0000, Document: The island of Mljet is home to a national park and is ideal for nature lovers.\n",
      "Score: 0.0000, Document: The island of Rab is famous for its medieval old town and stunning beaches.\n",
      "Score: 0.0000, Document: The city of Knin is known for its historic fortress and beautiful scenery.\n",
      "Score: 0.0000, Document: The island of Krk is the largest island in the Adriatic Sea.\n",
      "Score: 0.0000, Document: The island of Hvar is a popular destination for celebrities and high-end travelers.\n",
      "Score: 0.0000, Document: The city of Vukovar is known for its role in the Croatian War of Independence.\n",
      "Score: 0.0000, Document: The city of Varazdin is known for its baroque buildings and vibrant cultural scene.\n",
      "Score: 0.0000, Document: The island of Pag is famous for its cheese and nightlife, and is a fun stop for sailors.\n",
      "Score: 0.0000, Document: The city of Karlovac is known for its parks and the rivers that flow through it.\n",
      "Score: 0.0000, Document: The city of Opatija is known for its grand villas and seaside promenade.\n",
      "Score: 0.0000, Document: The town of Trogir is a UNESCO World Heritage site known for its medieval architecture.\n",
      "Score: 0.0000, Document: The city of Dubrovnik is often called the 'Pearl of the Adriatic'.\n",
      "Score: 0.0000, Document: The Plitvice Lakes National Park is a UNESCO World Heritage site known for its stunning waterfalls and lakes.\n",
      "Score: 0.0000, Document: The Brijuni Islands are a national park and a former presidential retreat.\n",
      "Score: 0.0000, Document: The city of Trogir, with its historic architecture, is a great place to dock.\n",
      "Score: 0.0000, Document: The city of Zadar is famous for its unique Sea Organ, an architectural sound art object.\n",
      "Score: 0.0000, Document: The Dubrovnik Summer Festival is a major cultural event featuring theater, music, and dance performances.\n",
      "Score: 0.0000, Document: The Peljesac Peninsula is known for its vineyards and wine production.\n",
      "Score: 0.0000, Document: The town of Cavtat is a quieter alternative to nearby Dubrovnik.\n",
      "Score: 0.0000, Document: The Istrian Peninsula is famous for its truffles and gourmet food.\n",
      "Score: 0.0000, Document: The island of Mljet has a national park that is perfect for exploring by sailboat.\n",
      "Score: 0.0000, Document: The ancient city of Pula is known for its well-preserved Roman amphitheater.\n",
      "Score: 0.0000, Document: The city of Dubrovnik, with its famous city walls, is a top destination for sailors.\n",
      "Score: 0.0000, Document: The island of Losinj is famous for its health tourism and clean air.\n",
      "Score: 0.0000, Document: The island of Pag is famous for its cheese, which is considered a delicacy.\n",
      "Score: 0.0000, Document: The city of Opatija is a historical seaside resort that welcomes sailors.\n",
      "Score: 0.0000, Document: Many sailors start their Croatian adventure from the city of Zadar.\n",
      "Score: 0.0000, Document: The island of Vis was a military base and was closed to tourism until the 1990s.\n",
      "Score: 0.0000, Document: The city of Split is a major port and gateway to the Dalmatian islands.\n",
      "Score: 0.0000, Document: The city of Zadar is famous for its sunsets, which sailors can enjoy from the sea.\n",
      "Score: 0.0000, Document: The city of Buzet in Istria is known as the 'City of Truffles'.\n",
      "Score: 0.0000, Document: Sailors can enjoy snorkeling in the clear waters of the Adriatic Sea.\n",
      "Score: 0.0000, Document: The Blue Cave on Biševo Island is a must-see for sailors.\n",
      "Score: 0.0000, Document: The island of Brac is home to the famous Zlatni Rat beach, known for its changing shape.\n",
      "Score: 0.0000, Document: The city of Porec is known for the Euphrasian Basilica, a UNESCO World Heritage site.\n",
      "Score: 0.0000, Document: The coastal town of Makarska is known for its beautiful beaches and lively nightlife.\n"
     ]
    }
   ],
   "source": [
    "# Sort the results in descending order of relevance scores\n",
    "sorted_bm25_results = np.argsort(bm25_results)[::-1]\n",
    "\n",
    "# Display the sorted BM25 search results\n",
    "print(\"\\nBM25 Search Results for query '{}':\".format(query))\n",
    "for idx in sorted_bm25_results:\n",
    "    print(\"Score: {:.4f}, Document: {}\".format(bm25_results[idx], documents[idx]))"
   ]
  },
  {
   "cell_type": "code",
   "execution_count": null,
   "metadata": {
    "id": "p8RBITpR-WXf"
   },
   "outputs": [],
   "source": []
  }
 ],
 "metadata": {
  "colab": {
   "provenance": []
  },
  "kernelspec": {
   "display_name": "Python 3",
   "name": "python3"
  },
  "language_info": {
   "codemirror_mode": {
    "name": "ipython",
    "version": 3
   },
   "file_extension": ".py",
   "mimetype": "text/x-python",
   "name": "python",
   "nbconvert_exporter": "python",
   "pygments_lexer": "ipython3",
   "version": "3.12.1"
  }
 },
 "nbformat": 4,
 "nbformat_minor": 0
}
