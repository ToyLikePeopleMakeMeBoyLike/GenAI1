{
 "cells": [
  {
   "cell_type": "markdown",
   "metadata": {
    "id": "vj4TmlLuXV54"
   },
   "source": [
    "# Libraries and Data"
   ]
  },
  {
   "cell_type": "code",
   "execution_count": 6,
   "metadata": {
    "executionInfo": {
     "elapsed": 402,
     "status": "ok",
     "timestamp": 1724949352234,
     "user": {
      "displayName": "Gladys Mawarni",
      "userId": "03879441175200282144"
     },
     "user_tz": -60
    },
    "id": "TrA2UFP-XkKy"
   },
   "outputs": [],
   "source": [
    "# Sample documents about sailing in Croatia\n",
    "documents = ['Sailing in Croatia often includes visiting UNESCO World Heritage sites.',\n",
    " 'The Makarska Riviera is known for its stunning coastline and sailing opportunities.',\n",
    " 'Sailing in Croatia offers stunning views of the Adriatic Sea.',\n",
    " \"The city of Sibenik is home to the impressive St. James's Cathedral, a UNESCO World Heritage site.\",\n",
    " 'The island of Brač is known for its beautiful beaches and great sailing conditions.',\n",
    " 'Sailing to the island of Rab, known for its medieval old town, is a great experience.',\n",
    " 'The Pakleni Islands near Hvar are a popular spot for sailing yachts.',\n",
    " 'The island of Cres is one of the largest in Croatia and a great destination for sailing.',\n",
    " 'The island of Cres is one of the largest in Croatia and has a diverse wildlife.',\n",
    " 'The city of Zagreb is the capital of Croatia and offers a mix of modern and historic attractions.',\n",
    " 'Sailors can experience the traditional Dalmatian way of life in many coastal villages.',\n",
    " 'The city of Knin is known for its historic fortress and beautiful scenery.',\n",
    " 'The island of Krk is the largest island in the Adriatic Sea.',\n",
    " 'Croatia has a rich history dating back to the Roman Empire.',\n",
    " 'The island of Hvar is a popular destination for celebrities and high-end travelers.',\n",
    " 'The city of Varazdin is known for its baroque buildings and vibrant cultural scene.',\n",
    " 'Sailors can enjoy fresh seafood at many coastal restaurants in Croatia.',\n",
    " 'The coastal town of Senj is known for its carnival and Nehaj Fortress.',\n",
    " 'The Dalmatian Coast is a famous region for sailing in Croatia.',\n",
    " \"The Diocletian's Palace in Split is one of the most famous Roman ruins in Croatia.\",\n",
    " 'The island of Dugi Otok is known for its dramatic cliffs and beautiful sailing waters.',\n",
    " 'The island of Rab is famous for its medieval old town and stunning beaches.',\n",
    " 'The island of Mljet is home to a national park and is ideal for nature lovers.',\n",
    " 'Sailors in Croatia can visit ancient Roman ruins in Split.',\n",
    " 'The city of Kotor, just across the border in Montenegro, is a popular extension for Croatian sailing trips.',\n",
    " 'The island of Korcula is believed to be the birthplace of Marco Polo.',\n",
    " 'The town of Motovun in Istria is famous for its film festival.',\n",
    " 'The city of Nin is known for its ancient salt pans and historic church.',\n",
    " 'The city of Vukovar is known for its role in the Croatian War of Independence.',\n",
    " 'Sailing to the island of Lošinj, known for its health tourism, is a relaxing experience.',\n",
    " 'The island of Hvar is known for its vibrant nightlife and sailing opportunities.',\n",
    " 'The island of Korčula is believed to be the birthplace of Marco Polo and is a popular sailing destination.',\n",
    " 'Sailing in Croatia often involves stopping at picturesque fishing villages.',\n",
    " 'The city of Opatija is known for its grand villas and seaside promenade.',\n",
    " 'The city of Porec is known for the Euphrasian Basilica, a UNESCO World Heritage site.',\n",
    " 'The island of Brac is home to the famous Zlatni Rat beach, known for its changing shape.',\n",
    " 'Sailing around the island of Mljet offers a peaceful and scenic experience.',\n",
    " 'The Blue Cave on Biševo Island is a must-see for sailors.',\n",
    " 'The island of Pag is famous for its cheese and nightlife, and is a fun stop for sailors.',\n",
    " \"The island of Lastovo is one of Croatia's most remote and tranquil destinations.\",\n",
    " 'Sailors can enjoy snorkeling in the clear waters of the Adriatic Sea.',\n",
    " 'The city of Rovinj is a charming starting point for a sailing trip in Croatia.',\n",
    " \"Croatia's national parks, like Krka and Plitvice, are ideal for hiking and nature lovers.\",\n",
    " 'The city of Zadar is famous for its sunsets, which sailors can enjoy from the sea.',\n",
    " 'Croatia has over a thousand islands, each with its unique charm.',\n",
    " \"Croatia's Adriatic coast is dotted with charming fishing villages.\",\n",
    " 'Sailing to the island of Šolta offers a quiet escape from the more touristy areas.',\n",
    " 'Sailors in Croatia can explore over 1,200 islands.',\n",
    " 'Sailing in Croatia provides opportunities to visit ancient fortresses and castles along the coast.',\n",
    " 'Croatia is famous for its beautiful coastline and crystal-clear waters.',\n",
    " 'The island of Krk is accessible by bridge and is a popular starting point for sailing trips.',\n",
    " 'Sailing in Croatia is best enjoyed during the summer months.',\n",
    " 'The island of Pag is famous for its cheese, which is considered a delicacy.',\n",
    " 'The medieval town of Rovinj is one of the most picturesque places in Croatia.',\n",
    " 'The island of Losinj is famous for its health tourism and clean air.',\n",
    " 'The city of Dubrovnik, with its famous city walls, is a top destination for sailors.',\n",
    " 'Croatia has beautiful islands perfect for sailing.',\n",
    " 'Sailing in Croatia allows you to explore hidden coves and bays.',\n",
    " 'The city of Rijeka is an important cultural and economic center in Croatia.',\n",
    " 'The island of Mljet has a national park that is perfect for exploring by sailboat.',\n",
    " 'The Istrian Peninsula is famous for its truffles and gourmet food.',\n",
    " 'The town of Cavtat is a quieter alternative to nearby Dubrovnik.',\n",
    " 'The Peljesac Peninsula is known for its vineyards and wine production.',\n",
    " 'The Dubrovnik Summer Festival is a major cultural event featuring theater, music, and dance performances.',\n",
    " 'The city of Zadar is famous for its unique Sea Organ, an architectural sound art object.',\n",
    " 'The beaches in Croatia are among the best in Europe, with many receiving Blue Flag status.',\n",
    " 'Sailing around the island of Murter gives access to the Kornati Islands National Park.',\n",
    " 'The city of Trogir, with its historic architecture, is a great place to dock.',\n",
    " 'Sailing from Split to Dubrovnik offers breathtaking coastal scenery.',\n",
    " 'The Plitvice Lakes National Park is a UNESCO World Heritage site known for its stunning waterfalls and lakes.',\n",
    " 'The city of Hvar is one of the sunniest places in Europe and a popular sailing hub.',\n",
    " \"The city of Dubrovnik is often called the 'Pearl of the Adriatic'.\",\n",
    " 'The city of Osijek is located in the eastern part of Croatia and is known for its Baroque style.',\n",
    " 'The city of Pula, with its Roman amphitheater, is a unique sailing destination.',\n",
    " 'The town of Trogir is a UNESCO World Heritage site known for its medieval architecture.',\n",
    " 'Sailors in Croatia can enjoy local wines at many coastal vineyards.',\n",
    " 'Croatia has a Mediterranean climate, making it a great destination year-round.',\n",
    " 'Croatia has a diverse cultural heritage, with influences from Italy, Hungary, and Austria.',\n",
    " 'The city of Rijeka is an important cultural and historical sailing destination.',\n",
    " 'The best sailing routes in Croatia include Dubrovnik and Split.',\n",
    " 'The Brijuni Islands are a national park and a former presidential retreat.',\n",
    " 'Sailing to the Elaphiti Islands offers a mix of natural beauty and cultural sites.',\n",
    " 'Croatia is known for its delicious seafood cuisine.',\n",
    " 'The ancient city of Pula is known for its well-preserved Roman amphitheater.',\n",
    " 'The city of Opatija is a historical seaside resort that welcomes sailors.',\n",
    " 'The waters around Croatia are known for being calm and clear, ideal for sailing.',\n",
    " 'The Kornati Islands National Park is a popular sailing destination in Croatia.',\n",
    " \"Sailing around the Brijuni Islands offers a glimpse of Croatia's natural beauty and wildlife.\",\n",
    " 'The island of Vis was a military base and was closed to tourism until the 1990s.',\n",
    " 'The city of Split is a major port and gateway to the Dalmatian islands.',\n",
    " 'Sailing to the island of Vis provides access to the famous Blue Cave.',\n",
    " \"The city of Buzet in Istria is known as the 'City of Truffles'.\",\n",
    " 'The city of Karlovac is known for its parks and the rivers that flow through it.',\n",
    " 'Sailing to the island of Vis allows you to experience a more remote part of Croatia.',\n",
    " 'The city of Šibenik is a UNESCO World Heritage site and a great stop for sailors.',\n",
    " \"The town of Samobor is famous for its traditional cream cake called 'kremsnita'.\",\n",
    " 'Sailing around the island of Lastovo provides a more secluded experience.',\n",
    " \"Croatia's wine regions produce some excellent wines, especially in Istria and Dalmatia.\",\n",
    " 'Many sailors start their Croatian adventure from the city of Zadar.',\n",
    " 'The coastal town of Makarska is known for its beautiful beaches and lively nightlife.']"
   ]
  },
  {
   "cell_type": "code",
   "execution_count": 2,
   "metadata": {
    "executionInfo": {
     "elapsed": 4103,
     "status": "ok",
     "timestamp": 1724949356776,
     "user": {
      "displayName": "Gladys Mawarni",
      "userId": "03879441175200282144"
     },
     "user_tz": -60
    },
    "id": "MP2EnoB9PK58"
   },
   "outputs": [],
   "source": [
    "# Import Libraries\n",
    "import nltk\n",
    "from sklearn.feature_extraction.text import TfidfVectorizer\n",
    "import numpy as np"
   ]
  },
  {
   "cell_type": "code",
   "execution_count": 3,
   "metadata": {
    "colab": {
     "base_uri": "https://localhost:8080/"
    },
    "executionInfo": {
     "elapsed": 1645,
     "status": "ok",
     "timestamp": 1724949358415,
     "user": {
      "displayName": "Gladys Mawarni",
      "userId": "03879441175200282144"
     },
     "user_tz": -60
    },
    "id": "9Ao5oXTMOe7u",
    "outputId": "0ebc786a-4938-4252-974a-8f25eaef3afa"
   },
   "outputs": [
    {
     "name": "stderr",
     "output_type": "stream",
     "text": [
      "[nltk_data] Downloading package punkt to /home/codespace/nltk_data...\n",
      "[nltk_data]   Package punkt is already up-to-date!\n",
      "[nltk_data] Downloading package stopwords to\n",
      "[nltk_data]     /home/codespace/nltk_data...\n",
      "[nltk_data]   Package stopwords is already up-to-date!\n"
     ]
    },
    {
     "data": {
      "text/plain": [
       "True"
      ]
     },
     "execution_count": 3,
     "metadata": {},
     "output_type": "execute_result"
    }
   ],
   "source": [
    "# Download the 'punkt' tokenizer model from nltk\n",
    "nltk.download(\"punkt\")\n",
    "# Download the 'stopwords' corpus from nltk\n",
    "nltk.download(\"stopwords\")"
   ]
  },
  {
   "cell_type": "markdown",
   "metadata": {
    "id": "BohPY5irPTdH"
   },
   "source": [
    "# Tokenization"
   ]
  },
  {
   "cell_type": "code",
   "execution_count": 4,
   "metadata": {
    "executionInfo": {
     "elapsed": 20,
     "status": "ok",
     "timestamp": 1724949358415,
     "user": {
      "displayName": "Gladys Mawarni",
      "userId": "03879441175200282144"
     },
     "user_tz": -60
    },
    "id": "QUrPkBrIPV1Q"
   },
   "outputs": [],
   "source": [
    "# Sample text\n",
    "text =  'The coastal town of Makarska is known for its beautiful beaches and lively nightlife. Many sailors start their Croatian adventure from the city of Zadar.'"
   ]
  },
  {
   "cell_type": "code",
   "execution_count": 9,
   "metadata": {},
   "outputs": [
    {
     "name": "stderr",
     "output_type": "stream",
     "text": [
      "[nltk_data] Downloading package punkt to /home/codespace/nltk_data...\n",
      "[nltk_data]   Package punkt is already up-to-date!\n"
     ]
    },
    {
     "data": {
      "text/plain": [
       "True"
      ]
     },
     "execution_count": 9,
     "metadata": {},
     "output_type": "execute_result"
    }
   ],
   "source": [
    "import nltk\n",
    "nltk.download('punkt')\n"
   ]
  },
  {
   "cell_type": "code",
   "execution_count": 13,
   "metadata": {},
   "outputs": [
    {
     "name": "stderr",
     "output_type": "stream",
     "text": [
      "[nltk_data] Downloading package punkt to /home/codespace/nltk_data...\n",
      "[nltk_data]   Package punkt is already up-to-date!\n"
     ]
    },
    {
     "data": {
      "text/plain": [
       "True"
      ]
     },
     "execution_count": 13,
     "metadata": {},
     "output_type": "execute_result"
    }
   ],
   "source": [
    "import nltk\n",
    "\n",
    "# Double-check download and force install\n",
    "nltk.download('punkt', quiet=False, raise_on_error=True)\n"
   ]
  },
  {
   "cell_type": "code",
   "execution_count": 23,
   "metadata": {},
   "outputs": [
    {
     "name": "stderr",
     "output_type": "stream",
     "text": [
      "[nltk_data] Downloading package punkt to\n",
      "[nltk_data]     /home/ToyLikePeopleMakeMeBoyLike/nltk_data...\n"
     ]
    },
    {
     "ename": "PermissionError",
     "evalue": "[Errno 13] Permission denied: '/home/ToyLikePeopleMakeMeBoyLike'",
     "output_type": "error",
     "traceback": [
      "\u001b[31m---------------------------------------------------------------------------\u001b[39m",
      "\u001b[31mPermissionError\u001b[39m                           Traceback (most recent call last)",
      "\u001b[36mCell\u001b[39m\u001b[36m \u001b[39m\u001b[32mIn[23]\u001b[39m\u001b[32m, line 4\u001b[39m\n\u001b[32m      1\u001b[39m \u001b[38;5;28;01mimport\u001b[39;00m\u001b[38;5;250m \u001b[39m\u001b[34;01mnltk\u001b[39;00m\n\u001b[32m      3\u001b[39m \u001b[38;5;66;03m# Download to a specific directory\u001b[39;00m\n\u001b[32m----> \u001b[39m\u001b[32m4\u001b[39m \u001b[43mnltk\u001b[49m\u001b[43m.\u001b[49m\u001b[43mdownload\u001b[49m\u001b[43m(\u001b[49m\u001b[33;43m'\u001b[39;49m\u001b[33;43mpunkt\u001b[39;49m\u001b[33;43m'\u001b[39;49m\u001b[43m,\u001b[49m\u001b[43m \u001b[49m\u001b[43mdownload_dir\u001b[49m\u001b[43m=\u001b[49m\u001b[33;43m'\u001b[39;49m\u001b[33;43m/home/ToyLikePeopleMakeMeBoyLike/nltk_data\u001b[39;49m\u001b[33;43m'\u001b[39;49m\u001b[43m)\u001b[49m\n",
      "\u001b[36mFile \u001b[39m\u001b[32m~/.python/current/lib/python3.12/site-packages/nltk/downloader.py:774\u001b[39m, in \u001b[36mdownload\u001b[39m\u001b[34m(self, info_or_id, download_dir, quiet, force, prefix, halt_on_error, raise_on_error, print_error_to)\u001b[39m\n\u001b[32m    768\u001b[39m \u001b[38;5;28;01mdef\u001b[39;00m\u001b[38;5;250m \u001b[39m\u001b[34mshow\u001b[39m(s, prefix2=\u001b[33m\"\u001b[39m\u001b[33m\"\u001b[39m):\n\u001b[32m    769\u001b[39m     print_to(\n\u001b[32m    770\u001b[39m         textwrap.fill(\n\u001b[32m    771\u001b[39m             s,\n\u001b[32m    772\u001b[39m             initial_indent=prefix + prefix2,\n\u001b[32m    773\u001b[39m             subsequent_indent=prefix + prefix2 + \u001b[33m\"\u001b[39m\u001b[33m \u001b[39m\u001b[33m\"\u001b[39m * \u001b[32m4\u001b[39m,\n\u001b[32m--> \u001b[39m\u001b[32m774\u001b[39m         )\n\u001b[32m    775\u001b[39m     )\n",
      "\u001b[36mFile \u001b[39m\u001b[32m~/.python/current/lib/python3.12/site-packages/nltk/downloader.py:642\u001b[39m, in \u001b[36mDownloader.incr_download\u001b[39m\u001b[34m(self, info_or_id, download_dir, force)\u001b[39m\n\u001b[32m    638\u001b[39m     \u001b[38;5;28;01myield\u001b[39;00m FinishCollectionMessage(info)\n\u001b[32m    640\u001b[39m \u001b[38;5;66;03m# Handle Packages (delegate to a helper function).\u001b[39;00m\n\u001b[32m    641\u001b[39m \u001b[38;5;28;01melse\u001b[39;00m:\n\u001b[32m--> \u001b[39m\u001b[32m642\u001b[39m     \u001b[38;5;28;01myield from\u001b[39;00m \u001b[38;5;28mself\u001b[39m._download_package(info, download_dir, force)\n",
      "\u001b[36mFile \u001b[39m\u001b[32m~/.python/current/lib/python3.12/site-packages/nltk/downloader.py:698\u001b[39m, in \u001b[36mDownloader._download_package\u001b[39m\u001b[34m(self, info, download_dir, force)\u001b[39m\n\u001b[32m    695\u001b[39m     os.remove(filepath)\n\u001b[32m    697\u001b[39m \u001b[38;5;66;03m# Ensure the download_dir exists\u001b[39;00m\n\u001b[32m--> \u001b[39m\u001b[32m698\u001b[39m \u001b[38;5;28;01mif\u001b[39;00m \u001b[38;5;129;01mnot\u001b[39;00m os.path.exists(download_dir):\n\u001b[32m    699\u001b[39m     os.makedirs(download_dir)\n\u001b[32m    700\u001b[39m \u001b[38;5;28;01mif\u001b[39;00m \u001b[38;5;129;01mnot\u001b[39;00m os.path.exists(os.path.join(download_dir, info.subdir)):\n",
      "\u001b[36mFile \u001b[39m\u001b[32m<frozen os>:215\u001b[39m, in \u001b[36mmakedirs\u001b[39m\u001b[34m(name, mode, exist_ok)\u001b[39m\n",
      "\u001b[36mFile \u001b[39m\u001b[32m<frozen os>:225\u001b[39m, in \u001b[36mmakedirs\u001b[39m\u001b[34m(name, mode, exist_ok)\u001b[39m\n",
      "\u001b[31mPermissionError\u001b[39m: [Errno 13] Permission denied: '/home/ToyLikePeopleMakeMeBoyLike'"
     ]
    }
   ],
   "source": [
    "import nltk\n",
    "\n",
    "# Download to a specific directory\n",
    "nltk.download('punkt', download_dir='/home/ToyLikePeopleMakeMeBoyLike/nltk_data')\n"
   ]
  },
  {
   "cell_type": "code",
   "execution_count": 22,
   "metadata": {},
   "outputs": [
    {
     "name": "stderr",
     "output_type": "stream",
     "text": [
      "[nltk_data] Downloading package punkt to /workspaces/codespaces-\n",
      "[nltk_data]     jupyter/nltk_data...\n",
      "[nltk_data]   Unzipping tokenizers/punkt.zip.\n"
     ]
    },
    {
     "data": {
      "text/plain": [
       "True"
      ]
     },
     "execution_count": 22,
     "metadata": {},
     "output_type": "execute_result"
    }
   ],
   "source": [
    "import nltk\n",
    "import os\n",
    "\n",
    "# Create a local nltk_data directory in the current working folder\n",
    "local_path = os.path.join(os.getcwd(), 'nltk_data')\n",
    "\n",
    "# Download punkt to this folder\n",
    "nltk.download('punkt', download_dir=local_path)\n"
   ]
  },
  {
   "cell_type": "code",
   "execution_count": 25,
   "metadata": {},
   "outputs": [],
   "source": [
    "nltk.data.path.append(local_path)\n"
   ]
  },
  {
   "cell_type": "code",
   "execution_count": 89,
   "metadata": {},
   "outputs": [
    {
     "ename": "LookupError",
     "evalue": "\n**********************************************************************\n  Resource \u001b[93mpunkt_tab\u001b[0m not found.\n  Please use the NLTK Downloader to obtain the resource:\n\n  \u001b[31m>>> import nltk\n  >>> nltk.download('punkt_tab')\n  \u001b[0m\n  For more information see: https://www.nltk.org/data.html\n\n  Attempted to load \u001b[93mtokenizers/punkt_tab/english/\u001b[0m\n\n  Searched in:\n    - '/home/codespace/nltk_data'\n    - '/home/codespace/.python/current/nltk_data'\n    - '/home/codespace/.python/current/share/nltk_data'\n    - '/home/codespace/.python/current/lib/nltk_data'\n    - '/usr/share/nltk_data'\n    - '/usr/local/share/nltk_data'\n    - '/usr/lib/nltk_data'\n    - '/usr/local/lib/nltk_data'\n    - '/workspaces/codespaces-jupyter/nltk_data'\n    - '/workspaces/codespaces-jupyter/nltk_data'\n    - '/workspaces/codespaces-jupyter/nltk_data'\n    - '/workspaces/codespaces-jupyter/nltk_data'\n    - '/workspaces/codespaces-jupyter/nltk_data'\n    - '/workspaces/codespaces-jupyter/nltk_data'\n**********************************************************************\n",
     "output_type": "error",
     "traceback": [
      "\u001b[31m---------------------------------------------------------------------------\u001b[39m",
      "\u001b[31mLookupError\u001b[39m                               Traceback (most recent call last)",
      "\u001b[36mCell\u001b[39m\u001b[36m \u001b[39m\u001b[32mIn[89]\u001b[39m\u001b[32m, line 2\u001b[39m\n\u001b[32m      1\u001b[39m text = \u001b[33m\"\u001b[39m\u001b[33mTesting again. Hopefully this works now!\u001b[39m\u001b[33m\"\u001b[39m\n\u001b[32m----> \u001b[39m\u001b[32m2\u001b[39m sentences = \u001b[43mnltk\u001b[49m\u001b[43m.\u001b[49m\u001b[43msent_tokenize\u001b[49m\u001b[43m(\u001b[49m\u001b[43mtext\u001b[49m\u001b[43m)\u001b[49m\n\u001b[32m      3\u001b[39m \u001b[38;5;28mprint\u001b[39m(sentences)\n",
      "\u001b[36mFile \u001b[39m\u001b[32m~/.python/current/lib/python3.12/site-packages/nltk/tokenize/__init__.py:119\u001b[39m, in \u001b[36msent_tokenize\u001b[39m\u001b[34m(text, language)\u001b[39m\n\u001b[32m    109\u001b[39m \u001b[38;5;28;01mdef\u001b[39;00m\u001b[38;5;250m \u001b[39m\u001b[34msent_tokenize\u001b[39m(text, language=\u001b[33m\"\u001b[39m\u001b[33menglish\u001b[39m\u001b[33m\"\u001b[39m):\n\u001b[32m    110\u001b[39m \u001b[38;5;250m    \u001b[39m\u001b[33;03m\"\"\"\u001b[39;00m\n\u001b[32m    111\u001b[39m \u001b[33;03m    Return a sentence-tokenized copy of *text*,\u001b[39;00m\n\u001b[32m    112\u001b[39m \u001b[33;03m    using NLTK's recommended sentence tokenizer\u001b[39;00m\n\u001b[32m   (...)\u001b[39m\u001b[32m    117\u001b[39m \u001b[33;03m    :param language: the model name in the Punkt corpus\u001b[39;00m\n\u001b[32m    118\u001b[39m \u001b[33;03m    \"\"\"\u001b[39;00m\n\u001b[32m--> \u001b[39m\u001b[32m119\u001b[39m     tokenizer = \u001b[43m_get_punkt_tokenizer\u001b[49m\u001b[43m(\u001b[49m\u001b[43mlanguage\u001b[49m\u001b[43m)\u001b[49m\n\u001b[32m    120\u001b[39m     \u001b[38;5;28;01mreturn\u001b[39;00m tokenizer.tokenize(text)\n",
      "\u001b[36mFile \u001b[39m\u001b[32m~/.python/current/lib/python3.12/site-packages/nltk/tokenize/__init__.py:105\u001b[39m, in \u001b[36m_get_punkt_tokenizer\u001b[39m\u001b[34m(language)\u001b[39m\n\u001b[32m     96\u001b[39m \u001b[38;5;129m@functools\u001b[39m.lru_cache\n\u001b[32m     97\u001b[39m \u001b[38;5;28;01mdef\u001b[39;00m\u001b[38;5;250m \u001b[39m\u001b[34m_get_punkt_tokenizer\u001b[39m(language=\u001b[33m\"\u001b[39m\u001b[33menglish\u001b[39m\u001b[33m\"\u001b[39m):\n\u001b[32m     98\u001b[39m \u001b[38;5;250m    \u001b[39m\u001b[33;03m\"\"\"\u001b[39;00m\n\u001b[32m     99\u001b[39m \u001b[33;03m    A constructor for the PunktTokenizer that utilizes\u001b[39;00m\n\u001b[32m    100\u001b[39m \u001b[33;03m    a lru cache for performance.\u001b[39;00m\n\u001b[32m   (...)\u001b[39m\u001b[32m    103\u001b[39m \u001b[33;03m    :type language: str\u001b[39;00m\n\u001b[32m    104\u001b[39m \u001b[33;03m    \"\"\"\u001b[39;00m\n\u001b[32m--> \u001b[39m\u001b[32m105\u001b[39m     \u001b[38;5;28;01mreturn\u001b[39;00m \u001b[43mPunktTokenizer\u001b[49m\u001b[43m(\u001b[49m\u001b[43mlanguage\u001b[49m\u001b[43m)\u001b[49m\n",
      "\u001b[36mFile \u001b[39m\u001b[32m~/.python/current/lib/python3.12/site-packages/nltk/tokenize/punkt.py:1744\u001b[39m, in \u001b[36mPunktTokenizer.__init__\u001b[39m\u001b[34m(self, lang)\u001b[39m\n\u001b[32m   1742\u001b[39m \u001b[38;5;28;01mdef\u001b[39;00m\u001b[38;5;250m \u001b[39m\u001b[34m__init__\u001b[39m(\u001b[38;5;28mself\u001b[39m, lang=\u001b[33m\"\u001b[39m\u001b[33menglish\u001b[39m\u001b[33m\"\u001b[39m):\n\u001b[32m   1743\u001b[39m     PunktSentenceTokenizer.\u001b[34m__init__\u001b[39m(\u001b[38;5;28mself\u001b[39m)\n\u001b[32m-> \u001b[39m\u001b[32m1744\u001b[39m     \u001b[38;5;28;43mself\u001b[39;49m\u001b[43m.\u001b[49m\u001b[43mload_lang\u001b[49m\u001b[43m(\u001b[49m\u001b[43mlang\u001b[49m\u001b[43m)\u001b[49m\n",
      "\u001b[36mFile \u001b[39m\u001b[32m~/.python/current/lib/python3.12/site-packages/nltk/tokenize/punkt.py:1749\u001b[39m, in \u001b[36mPunktTokenizer.load_lang\u001b[39m\u001b[34m(self, lang)\u001b[39m\n\u001b[32m   1746\u001b[39m \u001b[38;5;28;01mdef\u001b[39;00m\u001b[38;5;250m \u001b[39m\u001b[34mload_lang\u001b[39m(\u001b[38;5;28mself\u001b[39m, lang=\u001b[33m\"\u001b[39m\u001b[33menglish\u001b[39m\u001b[33m\"\u001b[39m):\n\u001b[32m   1747\u001b[39m     \u001b[38;5;28;01mfrom\u001b[39;00m\u001b[38;5;250m \u001b[39m\u001b[34;01mnltk\u001b[39;00m\u001b[34;01m.\u001b[39;00m\u001b[34;01mdata\u001b[39;00m\u001b[38;5;250m \u001b[39m\u001b[38;5;28;01mimport\u001b[39;00m find\n\u001b[32m-> \u001b[39m\u001b[32m1749\u001b[39m     lang_dir = \u001b[43mfind\u001b[49m\u001b[43m(\u001b[49m\u001b[33;43mf\u001b[39;49m\u001b[33;43m\"\u001b[39;49m\u001b[33;43mtokenizers/punkt_tab/\u001b[39;49m\u001b[38;5;132;43;01m{\u001b[39;49;00m\u001b[43mlang\u001b[49m\u001b[38;5;132;43;01m}\u001b[39;49;00m\u001b[33;43m/\u001b[39;49m\u001b[33;43m\"\u001b[39;49m\u001b[43m)\u001b[49m\n\u001b[32m   1750\u001b[39m     \u001b[38;5;28mself\u001b[39m._params = load_punkt_params(lang_dir)\n\u001b[32m   1751\u001b[39m     \u001b[38;5;28mself\u001b[39m._lang = lang\n",
      "\u001b[36mFile \u001b[39m\u001b[32m~/.python/current/lib/python3.12/site-packages/nltk/data.py:579\u001b[39m, in \u001b[36mfind\u001b[39m\u001b[34m(resource_name, paths)\u001b[39m\n\u001b[32m    577\u001b[39m sep = \u001b[33m\"\u001b[39m\u001b[33m*\u001b[39m\u001b[33m\"\u001b[39m * \u001b[32m70\u001b[39m\n\u001b[32m    578\u001b[39m resource_not_found = \u001b[33mf\u001b[39m\u001b[33m\"\u001b[39m\u001b[38;5;130;01m\\n\u001b[39;00m\u001b[38;5;132;01m{\u001b[39;00msep\u001b[38;5;132;01m}\u001b[39;00m\u001b[38;5;130;01m\\n\u001b[39;00m\u001b[38;5;132;01m{\u001b[39;00mmsg\u001b[38;5;132;01m}\u001b[39;00m\u001b[38;5;130;01m\\n\u001b[39;00m\u001b[38;5;132;01m{\u001b[39;00msep\u001b[38;5;132;01m}\u001b[39;00m\u001b[38;5;130;01m\\n\u001b[39;00m\u001b[33m\"\u001b[39m\n\u001b[32m--> \u001b[39m\u001b[32m579\u001b[39m \u001b[38;5;28;01mraise\u001b[39;00m \u001b[38;5;167;01mLookupError\u001b[39;00m(resource_not_found)\n",
      "\u001b[31mLookupError\u001b[39m: \n**********************************************************************\n  Resource \u001b[93mpunkt_tab\u001b[0m not found.\n  Please use the NLTK Downloader to obtain the resource:\n\n  \u001b[31m>>> import nltk\n  >>> nltk.download('punkt_tab')\n  \u001b[0m\n  For more information see: https://www.nltk.org/data.html\n\n  Attempted to load \u001b[93mtokenizers/punkt_tab/english/\u001b[0m\n\n  Searched in:\n    - '/home/codespace/nltk_data'\n    - '/home/codespace/.python/current/nltk_data'\n    - '/home/codespace/.python/current/share/nltk_data'\n    - '/home/codespace/.python/current/lib/nltk_data'\n    - '/usr/share/nltk_data'\n    - '/usr/local/share/nltk_data'\n    - '/usr/lib/nltk_data'\n    - '/usr/local/lib/nltk_data'\n    - '/workspaces/codespaces-jupyter/nltk_data'\n    - '/workspaces/codespaces-jupyter/nltk_data'\n    - '/workspaces/codespaces-jupyter/nltk_data'\n    - '/workspaces/codespaces-jupyter/nltk_data'\n    - '/workspaces/codespaces-jupyter/nltk_data'\n    - '/workspaces/codespaces-jupyter/nltk_data'\n**********************************************************************\n"
     ]
    }
   ],
   "source": [
    "text = \"Testing again. Hopefully this works now!\"\n",
    "sentences = nltk.sent_tokenize(text)\n",
    "print(sentences)\n"
   ]
  },
  {
   "cell_type": "code",
   "execution_count": 28,
   "metadata": {},
   "outputs": [
    {
     "name": "stderr",
     "output_type": "stream",
     "text": [
      "[nltk_data] Downloading package punkt to /workspaces/codespaces-\n",
      "[nltk_data]     jupyter/nltk_data...\n",
      "[nltk_data]   Package punkt is already up-to-date!\n"
     ]
    },
    {
     "data": {
      "text/plain": [
       "True"
      ]
     },
     "execution_count": 28,
     "metadata": {},
     "output_type": "execute_result"
    }
   ],
   "source": [
    "import nltk\n",
    "import os\n",
    "\n",
    "# Use a local nltk_data directory inside the current project\n",
    "local_nltk_path = '/workspaces/codespaces-jupyter/nltk_data'\n",
    "\n",
    "# Ensure the directory exists\n",
    "os.makedirs(local_nltk_path, exist_ok=True)\n",
    "\n",
    "# Download punkt there\n",
    "nltk.download('punkt', download_dir=local_nltk_path)\n"
   ]
  },
  {
   "cell_type": "code",
   "execution_count": 37,
   "metadata": {},
   "outputs": [],
   "source": [
    "local_nltk_path = '/workspaces/codespaces-jupyter/nltk_data'# Register the local path with nltk\n",
    "nltk.data.path.append(local_nltk_path)\n"
   ]
  },
  {
   "cell_type": "code",
   "execution_count": 40,
   "metadata": {},
   "outputs": [
    {
     "name": "stdout",
     "output_type": "stream",
     "text": [
      "['Testing again.', 'Hopefully this works now!']\n"
     ]
    }
   ],
   "source": [
    "from nltk.tokenize import PunktSentenceTokenizer\n",
    "import pickle\n",
    "\n",
    "punkt_path = '/workspaces/codespaces-jupyter/nltk_data/tokenizers/punkt/english.pickle'\n",
    "\n",
    "# Manually load the sentence tokenizer\n",
    "with open(punkt_path, 'rb') as f:\n",
    "    tokenizer = pickle.load(f)\n",
    "\n",
    "# Test it!\n",
    "text = \"Testing again. Hopefully this works now!\"\n",
    "sentences = tokenizer.tokenize(text)\n",
    "print(sentences)\n",
    "\n"
   ]
  },
  {
   "cell_type": "code",
   "execution_count": 44,
   "metadata": {},
   "outputs": [
    {
     "name": "stdout",
     "output_type": "stream",
     "text": [
      "['Testing again.', 'Hopefully this works now!']\n"
     ]
    }
   ],
   "source": [
    "text = \"Testing again. Hopefully this works now!\"\n",
    "sentences = tokenizer.tokenize(text)\n",
    "print(sentences)\n"
   ]
  },
  {
   "cell_type": "code",
   "execution_count": 45,
   "metadata": {},
   "outputs": [
    {
     "name": "stdout",
     "output_type": "stream",
     "text": [
      "The tokenized sentences are: ['Testing again.', 'Hopefully this works now!']\n"
     ]
    }
   ],
   "source": [
    "sentences = tokenizer.tokenize(text)\n",
    "print(f\"The tokenized sentences are: {sentences}\")\n"
   ]
  },
  {
   "cell_type": "code",
   "execution_count": 46,
   "metadata": {
    "colab": {
     "base_uri": "https://localhost:8080/"
    },
    "executionInfo": {
     "elapsed": 20,
     "status": "ok",
     "timestamp": 1724949358416,
     "user": {
      "displayName": "Gladys Mawarni",
      "userId": "03879441175200282144"
     },
     "user_tz": -60
    },
    "id": "pKTGbsB1Phus",
    "outputId": "b98b949c-9d92-4348-8ebc-a019662858c1"
   },
   "outputs": [
    {
     "name": "stdout",
     "output_type": "stream",
     "text": [
      "The tokenized sentences are: ['Testing again.', 'Hopefully this works now!']\n"
     ]
    }
   ],
   "source": [
    "# Tokenize the text into sentences\n",
    "# Splits the input text into a list of sentences\n",
    "sentences = tokenizer.tokenize(text)\n",
    "print(f\"The tokenized sentences are: {sentences}\")"
   ]
  },
  {
   "cell_type": "markdown",
   "metadata": {
    "id": "lKPVnDTUTTJo"
   },
   "source": [
    "# Data Processing"
   ]
  },
  {
   "cell_type": "code",
   "execution_count": 47,
   "metadata": {
    "colab": {
     "base_uri": "https://localhost:8080/"
    },
    "executionInfo": {
     "elapsed": 11,
     "status": "ok",
     "timestamp": 1724949358416,
     "user": {
      "displayName": "Gladys Mawarni",
      "userId": "03879441175200282144"
     },
     "user_tz": -60
    },
    "id": "TO4eKjJk3dU7",
    "outputId": "4f2e0119-6a47-4638-a2c8-9959aa9322c4"
   },
   "outputs": [
    {
     "name": "stdout",
     "output_type": "stream",
     "text": [
      "The stop words are: ['a', 'about', 'above', 'after', 'again', 'against', 'ain', 'all', 'am', 'an', 'and', 'any', 'are', 'aren', \"aren't\", 'as', 'at', 'be', 'because', 'been', 'before', 'being', 'below', 'between', 'both', 'but', 'by', 'can', 'couldn', \"couldn't\", 'd', 'did', 'didn', \"didn't\", 'do', 'does', 'doesn', \"doesn't\", 'doing', 'don', \"don't\", 'down', 'during', 'each', 'few', 'for', 'from', 'further', 'had', 'hadn', \"hadn't\", 'has', 'hasn', \"hasn't\", 'have', 'haven', \"haven't\", 'having', 'he', \"he'd\", \"he'll\", 'her', 'here', 'hers', 'herself', \"he's\", 'him', 'himself', 'his', 'how', 'i', \"i'd\", 'if', \"i'll\", \"i'm\", 'in', 'into', 'is', 'isn', \"isn't\", 'it', \"it'd\", \"it'll\", \"it's\", 'its', 'itself', \"i've\", 'just', 'll', 'm', 'ma', 'me', 'mightn', \"mightn't\", 'more', 'most', 'mustn', \"mustn't\", 'my', 'myself', 'needn', \"needn't\", 'no', 'nor', 'not', 'now', 'o', 'of', 'off', 'on', 'once', 'only', 'or', 'other', 'our', 'ours', 'ourselves', 'out', 'over', 'own', 're', 's', 'same', 'shan', \"shan't\", 'she', \"she'd\", \"she'll\", \"she's\", 'should', 'shouldn', \"shouldn't\", \"should've\", 'so', 'some', 'such', 't', 'than', 'that', \"that'll\", 'the', 'their', 'theirs', 'them', 'themselves', 'then', 'there', 'these', 'they', \"they'd\", \"they'll\", \"they're\", \"they've\", 'this', 'those', 'through', 'to', 'too', 'under', 'until', 'up', 've', 'very', 'was', 'wasn', \"wasn't\", 'we', \"we'd\", \"we'll\", \"we're\", 'were', 'weren', \"weren't\", \"we've\", 'what', 'when', 'where', 'which', 'while', 'who', 'whom', 'why', 'will', 'with', 'won', \"won't\", 'wouldn', \"wouldn't\", 'y', 'you', \"you'd\", \"you'll\", 'your', \"you're\", 'yours', 'yourself', 'yourselves', \"you've\"]\n"
     ]
    }
   ],
   "source": [
    "# Preview the stop words\n",
    "print(f\"The stop words are: {nltk.corpus.stopwords.words('english')}\")"
   ]
  },
  {
   "cell_type": "code",
   "execution_count": 48,
   "metadata": {
    "colab": {
     "base_uri": "https://localhost:8080/"
    },
    "executionInfo": {
     "elapsed": 9,
     "status": "ok",
     "timestamp": 1724949358416,
     "user": {
      "displayName": "Gladys Mawarni",
      "userId": "03879441175200282144"
     },
     "user_tz": -60
    },
    "id": "xfPHi5ycHXyt",
    "outputId": "4913dd98-2fc7-425d-dc80-705b59226bdc"
   },
   "outputs": [
    {
     "data": {
      "text/plain": [
       "True"
      ]
     },
     "execution_count": 48,
     "metadata": {},
     "output_type": "execute_result"
    }
   ],
   "source": [
    "# Find an element in a list\n",
    "\"not\" in nltk.corpus.stopwords.words(\"english\")"
   ]
  },
  {
   "cell_type": "code",
   "execution_count": 70,
   "metadata": {
    "executionInfo": {
     "elapsed": 358,
     "status": "ok",
     "timestamp": 1724949358768,
     "user": {
      "displayName": "Gladys Mawarni",
      "userId": "03879441175200282144"
     },
     "user_tz": -60
    },
    "id": "9TLhBzGc2mJE"
   },
   "outputs": [],
   "source": [
    "# Process the text: tokenization, only alphanumeric, lower case, no stopwords\n",
    "def process_text(text):\n",
    "    # Convert text to lowercase\n",
    "    processed_text = text.lower()\n",
    "\n",
    "    # Tokenize the text into words\n",
    "    processed_text = nltk.word_tokenize(processed_text)\n",
    "\n",
    "    # Remove non-alphanumeric tokens\n",
    "    processed_text = [word for word in processed_text if word.isalnum()]\n",
    "\n",
    "    # Remove stopwords from the tokenized text\n",
    "    processed_text = [word for word in processed_text if word not in nltk.corpus.stopwords.words(\"english\")]\n",
    "\n",
    "    return processed_text"
   ]
  },
  {
   "cell_type": "code",
   "execution_count": 76,
   "metadata": {},
   "outputs": [],
   "source": [
    "from nltk.corpus import stopwords\n",
    "from nltk.tokenize import TreebankWordTokenizer\n",
    "\n",
    "stop_words = set(stopwords.words('english'))\n",
    "tokenizer = TreebankWordTokenizer()\n",
    "\n",
    "def process_text(text):\n",
    "    text = text.lower()\n",
    "    tokens = tokenizer.tokenize(text)  # ✅ uses Treebank tokenizer, not punkt\n",
    "    tokens = [word for word in tokens if word.isalnum() and word not in stop_words]\n",
    "    return tokens\n"
   ]
  },
  {
   "cell_type": "code",
   "execution_count": 78,
   "metadata": {
    "colab": {
     "base_uri": "https://localhost:8080/"
    },
    "collapsed": true,
    "executionInfo": {
     "elapsed": 1026,
     "status": "ok",
     "timestamp": 1724949359791,
     "user": {
      "displayName": "Gladys Mawarni",
      "userId": "03879441175200282144"
     },
     "user_tz": -60
    },
    "id": "5UjLN_cW32pa",
    "outputId": "a4b97ed7-2b84-4403-ce89-2d9eba6c7bf3"
   },
   "outputs": [
    {
     "data": {
      "text/plain": [
       "['sailing croatia often includes visiting unesco world heritage sites',\n",
       " 'makarska riviera known stunning coastline sailing opportunities',\n",
       " 'sailing croatia offers stunning views adriatic sea',\n",
       " 'city sibenik home impressive james cathedral unesco world heritage site',\n",
       " 'island brač known beautiful beaches great sailing conditions',\n",
       " 'sailing island rab known medieval old town great experience',\n",
       " 'pakleni islands near hvar popular spot sailing yachts',\n",
       " 'island cres one largest croatia great destination sailing',\n",
       " 'island cres one largest croatia diverse wildlife',\n",
       " 'city zagreb capital croatia offers mix modern historic attractions',\n",
       " 'sailors experience traditional dalmatian way life many coastal villages',\n",
       " 'city knin known historic fortress beautiful scenery',\n",
       " 'island krk largest island adriatic sea',\n",
       " 'croatia rich history dating back roman empire',\n",
       " 'island hvar popular destination celebrities travelers',\n",
       " 'city varazdin known baroque buildings vibrant cultural scene',\n",
       " 'sailors enjoy fresh seafood many coastal restaurants croatia',\n",
       " 'coastal town senj known carnival nehaj fortress',\n",
       " 'dalmatian coast famous region sailing croatia',\n",
       " 'diocletian palace split one famous roman ruins croatia',\n",
       " 'island dugi otok known dramatic cliffs beautiful sailing waters',\n",
       " 'island rab famous medieval old town stunning beaches',\n",
       " 'island mljet home national park ideal nature lovers',\n",
       " 'sailors croatia visit ancient roman ruins split',\n",
       " 'city kotor across border montenegro popular extension croatian sailing trips',\n",
       " 'island korcula believed birthplace marco polo',\n",
       " 'town motovun istria famous film festival',\n",
       " 'city nin known ancient salt pans historic church',\n",
       " 'city vukovar known role croatian war independence',\n",
       " 'sailing island lošinj known health tourism relaxing experience',\n",
       " 'island hvar known vibrant nightlife sailing opportunities',\n",
       " 'island korčula believed birthplace marco polo popular sailing destination',\n",
       " 'sailing croatia often involves stopping picturesque fishing villages',\n",
       " 'city opatija known grand villas seaside promenade',\n",
       " 'city porec known euphrasian basilica unesco world heritage site',\n",
       " 'island brac home famous zlatni rat beach known changing shape',\n",
       " 'sailing around island mljet offers peaceful scenic experience',\n",
       " 'blue cave biševo island sailors',\n",
       " 'island pag famous cheese nightlife fun stop sailors',\n",
       " 'island lastovo one croatia remote tranquil destinations',\n",
       " 'sailors enjoy snorkeling clear waters adriatic sea',\n",
       " 'city rovinj charming starting point sailing trip croatia',\n",
       " 'croatia national parks like krka plitvice ideal hiking nature lovers',\n",
       " 'city zadar famous sunsets sailors enjoy sea',\n",
       " 'croatia thousand islands unique charm',\n",
       " 'croatia adriatic coast dotted charming fishing villages',\n",
       " 'sailing island šolta offers quiet escape touristy areas',\n",
       " 'sailors croatia explore islands',\n",
       " 'sailing croatia provides opportunities visit ancient fortresses castles along coast',\n",
       " 'croatia famous beautiful coastline waters',\n",
       " 'island krk accessible bridge popular starting point sailing trips',\n",
       " 'sailing croatia best enjoyed summer months',\n",
       " 'island pag famous cheese considered delicacy',\n",
       " 'medieval town rovinj one picturesque places croatia',\n",
       " 'island losinj famous health tourism clean air',\n",
       " 'city dubrovnik famous city walls top destination sailors',\n",
       " 'croatia beautiful islands perfect sailing',\n",
       " 'sailing croatia allows explore hidden coves bays',\n",
       " 'city rijeka important cultural economic center croatia',\n",
       " 'island mljet national park perfect exploring sailboat',\n",
       " 'istrian peninsula famous truffles gourmet food',\n",
       " 'town cavtat quieter alternative nearby dubrovnik',\n",
       " 'peljesac peninsula known vineyards wine production',\n",
       " 'dubrovnik summer festival major cultural event featuring theater music dance performances',\n",
       " 'city zadar famous unique sea organ architectural sound art object',\n",
       " 'beaches croatia among best europe many receiving blue flag status',\n",
       " 'sailing around island murter gives access kornati islands national park',\n",
       " 'city trogir historic architecture great place dock',\n",
       " 'sailing split dubrovnik offers breathtaking coastal scenery',\n",
       " 'plitvice lakes national park unesco world heritage site known stunning waterfalls lakes',\n",
       " 'city hvar one sunniest places europe popular sailing hub',\n",
       " 'city dubrovnik often called adriatic',\n",
       " 'city osijek located eastern part croatia known baroque style',\n",
       " 'city pula roman amphitheater unique sailing destination',\n",
       " 'town trogir unesco world heritage site known medieval architecture',\n",
       " 'sailors croatia enjoy local wines many coastal vineyards',\n",
       " 'croatia mediterranean climate making great destination',\n",
       " 'croatia diverse cultural heritage influences italy hungary austria',\n",
       " 'city rijeka important cultural historical sailing destination',\n",
       " 'best sailing routes croatia include dubrovnik split',\n",
       " 'brijuni islands national park former presidential retreat',\n",
       " 'sailing elaphiti islands offers mix natural beauty cultural sites',\n",
       " 'croatia known delicious seafood cuisine',\n",
       " 'ancient city pula known roman amphitheater',\n",
       " 'city opatija historical seaside resort welcomes sailors',\n",
       " 'waters around croatia known calm clear ideal sailing',\n",
       " 'kornati islands national park popular sailing destination croatia',\n",
       " 'sailing around brijuni islands offers glimpse croatia natural beauty wildlife',\n",
       " 'island vis military base closed tourism 1990s',\n",
       " 'city split major port gateway dalmatian islands',\n",
       " 'sailing island vis provides access famous blue cave',\n",
       " 'city buzet istria known truffles',\n",
       " 'city karlovac known parks rivers flow',\n",
       " 'sailing island vis allows experience remote part croatia',\n",
       " 'city šibenik unesco world heritage site great stop sailors',\n",
       " 'town samobor famous traditional cream cake called',\n",
       " 'sailing around island lastovo provides secluded experience',\n",
       " 'croatia wine regions produce excellent wines especially istria dalmatia',\n",
       " 'many sailors start croatian adventure city zadar',\n",
       " 'coastal town makarska known beautiful beaches lively nightlife']"
      ]
     },
     "execution_count": 78,
     "metadata": {},
     "output_type": "execute_result"
    }
   ],
   "source": [
    "# Apply the function to each document, and the tokens are joined back into a string\n",
    "processed_docs = [' '.join(process_text(doc)) for doc in documents]\n",
    "processed_docs"
   ]
  },
  {
   "cell_type": "markdown",
   "metadata": {
    "id": "JF5OB_Sl5V_J"
   },
   "source": [
    "# TF-IDF"
   ]
  },
  {
   "cell_type": "code",
   "execution_count": 79,
   "metadata": {
    "executionInfo": {
     "elapsed": 16,
     "status": "ok",
     "timestamp": 1724949359791,
     "user": {
      "displayName": "Gladys Mawarni",
      "userId": "03879441175200282144"
     },
     "user_tz": -60
    },
    "id": "UEfAgS-l5Yh2"
   },
   "outputs": [],
   "source": [
    "# Create an instance of TfidfVectorizer\n",
    "vectorizer = TfidfVectorizer()\n",
    "# Fit the vectorizer to the preprocessed documents and transform them into a TF-IDF matrix\n",
    "tfidf_matrix = vectorizer.fit_transform(processed_docs)"
   ]
  },
  {
   "cell_type": "code",
   "execution_count": 55,
   "metadata": {
    "executionInfo": {
     "elapsed": 15,
     "status": "ok",
     "timestamp": 1724949359791,
     "user": {
      "displayName": "Gladys Mawarni",
      "userId": "03879441175200282144"
     },
     "user_tz": -60
    },
    "id": "68_1moqG5rHw"
   },
   "outputs": [],
   "source": [
    "# Sample query\n",
    "query = \"Sailing in Croatia is fox.\""
   ]
  },
  {
   "cell_type": "code",
   "execution_count": 13,
   "metadata": {
    "colab": {
     "base_uri": "https://localhost:8080/"
    },
    "collapsed": true,
    "executionInfo": {
     "elapsed": 14,
     "status": "ok",
     "timestamp": 1724949359791,
     "user": {
      "displayName": "Gladys Mawarni",
      "userId": "03879441175200282144"
     },
     "user_tz": -60
    },
    "id": "I39pBbOE5wmo",
    "outputId": "36ff1c34-e91e-490f-82ad-d6bb5756ba70"
   },
   "outputs": [
    {
     "name": "stdout",
     "output_type": "stream",
     "text": [
      "The results are: [[0.24625163]\n",
      " [0.13864202]\n",
      " [0.30056306]\n",
      " [0.        ]\n",
      " [0.14024666]\n",
      " [0.1381081 ]\n",
      " [0.12226441]\n",
      " [0.30067274]\n",
      " [0.13963211]\n",
      " [0.11302752]\n",
      " [0.        ]\n",
      " [0.        ]\n",
      " [0.        ]\n",
      " [0.11905851]\n",
      " [0.        ]\n",
      " [0.        ]\n",
      " [0.12546711]\n",
      " [0.        ]\n",
      " [0.32689033]\n",
      " [0.12658058]\n",
      " [0.12165464]\n",
      " [0.        ]\n",
      " [0.        ]\n",
      " [0.14149573]\n",
      " [0.10742657]\n",
      " [0.        ]\n",
      " [0.        ]\n",
      " [0.        ]\n",
      " [0.        ]\n",
      " [0.13479665]\n",
      " [0.15493951]\n",
      " [0.12259048]\n",
      " [0.24730848]\n",
      " [0.        ]\n",
      " [0.        ]\n",
      " [0.        ]\n",
      " [0.13422752]\n",
      " [0.        ]\n",
      " [0.        ]\n",
      " [0.13312887]\n",
      " [0.        ]\n",
      " [0.26141386]\n",
      " [0.10247136]\n",
      " [0.        ]\n",
      " [0.1566809 ]\n",
      " [0.12879875]\n",
      " [0.12102422]\n",
      " [0.21310791]\n",
      " [0.21829062]\n",
      " [0.17875055]\n",
      " [0.11741373]\n",
      " [0.29298342]\n",
      " [0.        ]\n",
      " [0.13690875]\n",
      " [0.        ]\n",
      " [0.        ]\n",
      " [0.39440178]\n",
      " [0.25877581]\n",
      " [0.13303429]\n",
      " [0.        ]\n",
      " [0.        ]\n",
      " [0.        ]\n",
      " [0.        ]\n",
      " [0.        ]\n",
      " [0.        ]\n",
      " [0.10272353]\n",
      " [0.11834001]\n",
      " [0.        ]\n",
      " [0.14264644]\n",
      " [0.        ]\n",
      " [0.12197261]\n",
      " [0.        ]\n",
      " [0.11391454]\n",
      " [0.14891909]\n",
      " [0.        ]\n",
      " [0.1274194 ]\n",
      " [0.13947623]\n",
      " [0.11597963]\n",
      " [0.14785624]\n",
      " [0.28179676]\n",
      " [0.        ]\n",
      " [0.1195871 ]\n",
      " [0.15875272]\n",
      " [0.        ]\n",
      " [0.        ]\n",
      " [0.27581423]\n",
      " [0.30243399]\n",
      " [0.23190592]\n",
      " [0.        ]\n",
      " [0.        ]\n",
      " [0.13683977]\n",
      " [0.        ]\n",
      " [0.        ]\n",
      " [0.2775277 ]\n",
      " [0.        ]\n",
      " [0.        ]\n",
      " [0.14479524]\n",
      " [0.10381353]\n",
      " [0.        ]\n",
      " [0.        ]]\n"
     ]
    }
   ],
   "source": [
    "# Transform the query into a TF-IDF vector\n",
    "query_vec = vectorizer.transform([query])\n",
    "#print(query_vec.T.toarray())\n",
    "\n",
    "# Compute the similarity between the query vector and each document vector\n",
    "results = np.dot(tfidf_matrix, query_vec.T).toarray()\n",
    "print(f\"The results are: {results}\")"
   ]
  },
  {
   "cell_type": "code",
   "execution_count": 56,
   "metadata": {
    "executionInfo": {
     "elapsed": 6,
     "status": "ok",
     "timestamp": 1724949359791,
     "user": {
      "displayName": "Gladys Mawarni",
      "userId": "03879441175200282144"
     },
     "user_tz": -60
    },
    "id": "VbsxUt_67Ouz"
   },
   "outputs": [],
   "source": [
    "# Function to search the documents based on a query\n",
    "def search(query, vectorizer, tfidf_matrix):\n",
    "  # Transform the query into a TF-IDF vector using the provided vectorizer\n",
    "  query_vec = vectorizer.transform([query])\n",
    "\n",
    "  # Compute the similarity between the query vector and each document vector\n",
    "  # This is done by calculating the dot product of the TF-IDF matrix and the query vector\n",
    "  results = np.dot(tfidf_matrix, query_vec.T).toarray()\n",
    "\n",
    "  # Return the array of similarity scores\n",
    "  return results"
   ]
  },
  {
   "cell_type": "code",
   "execution_count": 80,
   "metadata": {
    "colab": {
     "base_uri": "https://localhost:8080/"
    },
    "collapsed": true,
    "executionInfo": {
     "elapsed": 288,
     "status": "ok",
     "timestamp": 1724949360074,
     "user": {
      "displayName": "Gladys Mawarni",
      "userId": "03879441175200282144"
     },
     "user_tz": -60
    },
    "id": "mtVhuSIc7oZX",
    "outputId": "fb3c551f-cee9-48da-a058-a3bcb87e5557"
   },
   "outputs": [
    {
     "name": "stdout",
     "output_type": "stream",
     "text": [
      "Score 0.43  => Document: The city of Dubrovnik, with its famous city walls, is a top destination for sailors.\n",
      "Score 0.11  => Document: Sailors in Croatia can explore over 1,200 islands.\n",
      "Score 0.10  => Document: Croatia has beautiful islands perfect for sailing.\n",
      "Score 0.10  => Document: Croatia is famous for its beautiful coastline and crystal-clear waters.\n",
      "Score 0.09  => Document: The Dalmatian Coast is a famous region for sailing in Croatia.\n",
      "Score 0.09  => Document: Croatia is known for its delicious seafood cuisine.\n",
      "Score 0.08  => Document: Croatia has over a thousand islands, each with its unique charm.\n",
      "Score 0.08  => Document: The Kornati Islands National Park is a popular sailing destination in Croatia.\n",
      "Score 0.08  => Document: The island of Cres is one of the largest in Croatia and a great destination for sailing.\n",
      "Score 0.08  => Document: Sailing in Croatia offers stunning views of the Adriatic Sea.\n",
      "Score 0.08  => Document: Sailing in Croatia is best enjoyed during the summer months.\n",
      "Score 0.08  => Document: Sailors in Croatia can visit ancient Roman ruins in Split.\n",
      "Score 0.07  => Document: The island of Cres is one of the largest in Croatia and has a diverse wildlife.\n",
      "Score 0.07  => Document: Croatia has a Mediterranean climate, making it a great destination year-round.\n",
      "Score 0.07  => Document: The best sailing routes in Croatia include Dubrovnik and Split.\n",
      "Score 0.07  => Document: The medieval town of Rovinj is one of the most picturesque places in Croatia.\n",
      "Score 0.07  => Document: Sailing to the island of Vis allows you to experience a more remote part of Croatia.\n",
      "Score 0.07  => Document: The waters around Croatia are known for being calm and clear, ideal for sailing.\n",
      "Score 0.07  => Document: The island of Lastovo is one of Croatia's most remote and tranquil destinations.\n",
      "Score 0.07  => Document: The city of Rijeka is an important cultural and economic center in Croatia.\n",
      "Score 0.07  => Document: The city of Rovinj is a charming starting point for a sailing trip in Croatia.\n",
      "Score 0.07  => Document: Croatia's Adriatic coast is dotted with charming fishing villages.\n",
      "Score 0.07  => Document: Sailing in Croatia allows you to explore hidden coves and bays.\n",
      "Score 0.07  => Document: Sailors in Croatia can enjoy local wines at many coastal vineyards.\n",
      "Score 0.07  => Document: The Diocletian's Palace in Split is one of the most famous Roman ruins in Croatia.\n",
      "Score 0.07  => Document: Sailors can enjoy fresh seafood at many coastal restaurants in Croatia.\n",
      "Score 0.07  => Document: Sailing in Croatia often involves stopping at picturesque fishing villages.\n",
      "Score 0.07  => Document: Sailing in Croatia often includes visiting UNESCO World Heritage sites.\n",
      "Score 0.06  => Document: Croatia has a rich history dating back to the Roman Empire.\n",
      "Score 0.06  => Document: Croatia has a diverse cultural heritage, with influences from Italy, Hungary, and Austria.\n",
      "Score 0.06  => Document: Sailing around the Brijuni Islands offers a glimpse of Croatia's natural beauty and wildlife.\n",
      "Score 0.06  => Document: The city of Osijek is located in the eastern part of Croatia and is known for its Baroque style.\n",
      "Score 0.06  => Document: The city of Zagreb is the capital of Croatia and offers a mix of modern and historic attractions.\n",
      "Score 0.06  => Document: Sailing in Croatia provides opportunities to visit ancient fortresses and castles along the coast.\n",
      "Score 0.06  => Document: Croatia's wine regions produce some excellent wines, especially in Istria and Dalmatia.\n",
      "Score 0.06  => Document: The beaches in Croatia are among the best in Europe, with many receiving Blue Flag status.\n",
      "Score 0.06  => Document: Croatia's national parks, like Krka and Plitvice, are ideal for hiking and nature lovers.\n",
      "Score 0.00  => Document: The Makarska Riviera is known for its stunning coastline and sailing opportunities.\n",
      "Score 0.00  => Document: The city of Sibenik is home to the impressive St. James's Cathedral, a UNESCO World Heritage site.\n",
      "Score 0.00  => Document: The island of Brač is known for its beautiful beaches and great sailing conditions.\n",
      "Score 0.00  => Document: Sailing to the island of Rab, known for its medieval old town, is a great experience.\n",
      "Score 0.00  => Document: The Pakleni Islands near Hvar are a popular spot for sailing yachts.\n",
      "Score 0.00  => Document: Sailors can experience the traditional Dalmatian way of life in many coastal villages.\n",
      "Score 0.00  => Document: The city of Knin is known for its historic fortress and beautiful scenery.\n",
      "Score 0.00  => Document: The island of Krk is the largest island in the Adriatic Sea.\n",
      "Score 0.00  => Document: The island of Hvar is a popular destination for celebrities and high-end travelers.\n",
      "Score 0.00  => Document: The city of Varazdin is known for its baroque buildings and vibrant cultural scene.\n",
      "Score 0.00  => Document: The coastal town of Senj is known for its carnival and Nehaj Fortress.\n",
      "Score 0.00  => Document: The island of Dugi Otok is known for its dramatic cliffs and beautiful sailing waters.\n",
      "Score 0.00  => Document: The island of Rab is famous for its medieval old town and stunning beaches.\n",
      "Score 0.00  => Document: The island of Mljet is home to a national park and is ideal for nature lovers.\n",
      "Score 0.00  => Document: The city of Kotor, just across the border in Montenegro, is a popular extension for Croatian sailing trips.\n",
      "Score 0.00  => Document: The island of Korcula is believed to be the birthplace of Marco Polo.\n",
      "Score 0.00  => Document: The town of Motovun in Istria is famous for its film festival.\n",
      "Score 0.00  => Document: The city of Nin is known for its ancient salt pans and historic church.\n",
      "Score 0.00  => Document: The city of Vukovar is known for its role in the Croatian War of Independence.\n",
      "Score 0.00  => Document: Sailing to the island of Lošinj, known for its health tourism, is a relaxing experience.\n",
      "Score 0.00  => Document: The island of Hvar is known for its vibrant nightlife and sailing opportunities.\n",
      "Score 0.00  => Document: The island of Korčula is believed to be the birthplace of Marco Polo and is a popular sailing destination.\n",
      "Score 0.00  => Document: The city of Opatija is known for its grand villas and seaside promenade.\n",
      "Score 0.00  => Document: The city of Porec is known for the Euphrasian Basilica, a UNESCO World Heritage site.\n",
      "Score 0.00  => Document: The island of Brac is home to the famous Zlatni Rat beach, known for its changing shape.\n",
      "Score 0.00  => Document: Sailing around the island of Mljet offers a peaceful and scenic experience.\n",
      "Score 0.00  => Document: The Blue Cave on Biševo Island is a must-see for sailors.\n",
      "Score 0.00  => Document: The island of Pag is famous for its cheese and nightlife, and is a fun stop for sailors.\n",
      "Score 0.00  => Document: Sailors can enjoy snorkeling in the clear waters of the Adriatic Sea.\n",
      "Score 0.00  => Document: The city of Zadar is famous for its sunsets, which sailors can enjoy from the sea.\n",
      "Score 0.00  => Document: Sailing to the island of Šolta offers a quiet escape from the more touristy areas.\n",
      "Score 0.00  => Document: The island of Krk is accessible by bridge and is a popular starting point for sailing trips.\n",
      "Score 0.00  => Document: The island of Pag is famous for its cheese, which is considered a delicacy.\n",
      "Score 0.00  => Document: The island of Losinj is famous for its health tourism and clean air.\n",
      "Score 0.00  => Document: The island of Mljet has a national park that is perfect for exploring by sailboat.\n",
      "Score 0.00  => Document: The Istrian Peninsula is famous for its truffles and gourmet food.\n",
      "Score 0.00  => Document: The town of Cavtat is a quieter alternative to nearby Dubrovnik.\n",
      "Score 0.00  => Document: The Peljesac Peninsula is known for its vineyards and wine production.\n",
      "Score 0.00  => Document: The Dubrovnik Summer Festival is a major cultural event featuring theater, music, and dance performances.\n",
      "Score 0.00  => Document: The city of Zadar is famous for its unique Sea Organ, an architectural sound art object.\n",
      "Score 0.00  => Document: Sailing around the island of Murter gives access to the Kornati Islands National Park.\n",
      "Score 0.00  => Document: The city of Trogir, with its historic architecture, is a great place to dock.\n",
      "Score 0.00  => Document: Sailing from Split to Dubrovnik offers breathtaking coastal scenery.\n",
      "Score 0.00  => Document: The Plitvice Lakes National Park is a UNESCO World Heritage site known for its stunning waterfalls and lakes.\n",
      "Score 0.00  => Document: The city of Hvar is one of the sunniest places in Europe and a popular sailing hub.\n",
      "Score 0.00  => Document: The city of Dubrovnik is often called the 'Pearl of the Adriatic'.\n",
      "Score 0.00  => Document: The city of Pula, with its Roman amphitheater, is a unique sailing destination.\n",
      "Score 0.00  => Document: The town of Trogir is a UNESCO World Heritage site known for its medieval architecture.\n",
      "Score 0.00  => Document: The city of Rijeka is an important cultural and historical sailing destination.\n",
      "Score 0.00  => Document: The Brijuni Islands are a national park and a former presidential retreat.\n",
      "Score 0.00  => Document: Sailing to the Elaphiti Islands offers a mix of natural beauty and cultural sites.\n",
      "Score 0.00  => Document: The ancient city of Pula is known for its well-preserved Roman amphitheater.\n",
      "Score 0.00  => Document: The city of Opatija is a historical seaside resort that welcomes sailors.\n",
      "Score 0.00  => Document: The island of Vis was a military base and was closed to tourism until the 1990s.\n",
      "Score 0.00  => Document: The city of Split is a major port and gateway to the Dalmatian islands.\n",
      "Score 0.00  => Document: Sailing to the island of Vis provides access to the famous Blue Cave.\n",
      "Score 0.00  => Document: The city of Buzet in Istria is known as the 'City of Truffles'.\n",
      "Score 0.00  => Document: The city of Karlovac is known for its parks and the rivers that flow through it.\n",
      "Score 0.00  => Document: The city of Šibenik is a UNESCO World Heritage site and a great stop for sailors.\n",
      "Score 0.00  => Document: The town of Samobor is famous for its traditional cream cake called 'kremsnita'.\n",
      "Score 0.00  => Document: Sailing around the island of Lastovo provides a more secluded experience.\n",
      "Score 0.00  => Document: Many sailors start their Croatian adventure from the city of Zadar.\n",
      "Score 0.00  => Document: The coastal town of Makarska is known for its beautiful beaches and lively nightlife.\n"
     ]
    }
   ],
   "source": [
    "# Sort and Display the function\n",
    "results = search(query, vectorizer, tfidf_matrix)\n",
    "\n",
    "# Sort the results in descending order based on the similarity scores\n",
    "sorted_results = sorted(enumerate(results), key = lambda x: x[1][0], reverse = True)\n",
    "\n",
    "# Iterate over the sorted results to display the outcome\n",
    "for idx, score in sorted_results:\n",
    "  print(f\"Score {score[0]:.2f}  => Document: {documents[idx]}\") # Using idx ( integer) to access the documents"
   ]
  },
  {
   "cell_type": "markdown",
   "metadata": {
    "id": "AlA3uLgzC3ir"
   },
   "source": [
    "# Boolean search"
   ]
  },
  {
   "cell_type": "code",
   "execution_count": 58,
   "metadata": {
    "executionInfo": {
     "elapsed": 7,
     "status": "ok",
     "timestamp": 1724949360075,
     "user": {
      "displayName": "Gladys Mawarni",
      "userId": "03879441175200282144"
     },
     "user_tz": -60
    },
    "id": "mDilnRUlHf49"
   },
   "outputs": [],
   "source": [
    "# Process the text: tokenization, remove non-alphanumeric characters, convert to lower case, and remove stopwords (excluding 'and', 'or', 'not')\n",
    "def process_text_boolean(text):\n",
    "    # Convert text to lowercase\n",
    "    processed_text = text.lower()\n",
    "\n",
    "    # Tokenize the text into words\n",
    "    processed_text = nltk.word_tokenize(processed_text)\n",
    "\n",
    "    # Remove non-alphanumeric tokens\n",
    "    processed_text = [word for word in processed_text if word.isalnum()]\n",
    "\n",
    "    # Define stopwords excluding 'and', 'or', 'not'\n",
    "    stopwords = set(nltk.corpus.stopwords.words(\"english\")) - {'and', 'or', 'not'}\n",
    "\n",
    "    # Remove stopwords from the tokenized text\n",
    "    processed_text = [word for word in processed_text if word not in stopwords]\n",
    "\n",
    "    return processed_text"
   ]
  },
  {
   "cell_type": "code",
   "execution_count": 59,
   "metadata": {
    "executionInfo": {
     "elapsed": 6,
     "status": "ok",
     "timestamp": 1724949360075,
     "user": {
      "displayName": "Gladys Mawarni",
      "userId": "03879441175200282144"
     },
     "user_tz": -60
    },
    "id": "kolB97iuC7bT"
   },
   "outputs": [],
   "source": [
    "# define a function for the boolean search\n",
    "def boolean_search(query, documents):\n",
    "  query_tokens = process_text_boolean(query)\n",
    "\n",
    "  results = []\n",
    "\n",
    "  for doc_id, doc in enumerate(documents):\n",
    "    doc_tokens = set(process_text_boolean(doc))\n",
    "    include_doc = False\n",
    "\n",
    "    for i, token in enumerate(query_tokens):\n",
    "      # Handling the \"and\" operator\n",
    "      if token == \"and\" and i + 1 < len(query_tokens):\n",
    "        # If the AND operator is found, check if the next token is in the document\n",
    "        include_doc = include_doc and (query_tokens[i + 1] in doc_tokens)\n",
    "\n",
    "      elif token == \"or\" and i + 1 < len(query_tokens):\n",
    "        # If the OR operator is found, check if the next token is in the document\n",
    "        include_doc = include_doc or (query_tokens[i + 1] in doc_tokens)\n",
    "\n",
    "      elif token == \"not\" and i + 1 < len(query_tokens):\n",
    "        # If the NOT operator is found, exclude the document if the next token is present\n",
    "        if query_tokens[i + 1] in doc_tokens:\n",
    "          include_doc = False\n",
    "          break # Why is it not exiting the loop?\n",
    "\n",
    "      else:\n",
    "        # For normal tokens check if the document should be included\n",
    "        include_doc = token in doc_tokens or include_doc\n",
    "\n",
    "    if include_doc:\n",
    "      results.append((doc_id, doc))\n",
    "\n",
    "  return results"
   ]
  },
  {
   "cell_type": "code",
   "execution_count": 18,
   "metadata": {
    "colab": {
     "base_uri": "https://localhost:8080/"
    },
    "collapsed": true,
    "executionInfo": {
     "elapsed": 295,
     "status": "ok",
     "timestamp": 1724949360365,
     "user": {
      "displayName": "Gladys Mawarni",
      "userId": "03879441175200282144"
     },
     "user_tz": -60
    },
    "id": "h8OY4OKwGK9g",
    "outputId": "ddd57cbb-c917-402d-c4af-dea7d6f1b8b5"
   },
   "outputs": [
    {
     "name": "stdout",
     "output_type": "stream",
     "text": [
      "Document ID: 0, Document: Sailing in Croatia often includes visiting UNESCO World Heritage sites.\n",
      "Document ID: 1, Document: The Makarska Riviera is known for its stunning coastline and sailing opportunities.\n",
      "Document ID: 2, Document: Sailing in Croatia offers stunning views of the Adriatic Sea.\n",
      "Document ID: 4, Document: The island of Brač is known for its beautiful beaches and great sailing conditions.\n",
      "Document ID: 5, Document: Sailing to the island of Rab, known for its medieval old town, is a great experience.\n",
      "Document ID: 6, Document: The Pakleni Islands near Hvar are a popular spot for sailing yachts.\n",
      "Document ID: 7, Document: The island of Cres is one of the largest in Croatia and a great destination for sailing.\n",
      "Document ID: 14, Document: The island of Hvar is a popular destination for celebrities and high-end travelers.\n",
      "Document ID: 18, Document: The Dalmatian Coast is a famous region for sailing in Croatia.\n",
      "Document ID: 19, Document: The Diocletian's Palace in Split is one of the most famous Roman ruins in Croatia.\n",
      "Document ID: 20, Document: The island of Dugi Otok is known for its dramatic cliffs and beautiful sailing waters.\n",
      "Document ID: 23, Document: Sailors in Croatia can visit ancient Roman ruins in Split.\n",
      "Document ID: 24, Document: The city of Kotor, just across the border in Montenegro, is a popular extension for Croatian sailing trips.\n",
      "Document ID: 29, Document: Sailing to the island of Lošinj, known for its health tourism, is a relaxing experience.\n",
      "Document ID: 30, Document: The island of Hvar is known for its vibrant nightlife and sailing opportunities.\n",
      "Document ID: 31, Document: The island of Korčula is believed to be the birthplace of Marco Polo and is a popular sailing destination.\n",
      "Document ID: 32, Document: Sailing in Croatia often involves stopping at picturesque fishing villages.\n",
      "Document ID: 36, Document: Sailing around the island of Mljet offers a peaceful and scenic experience.\n",
      "Document ID: 41, Document: The city of Rovinj is a charming starting point for a sailing trip in Croatia.\n",
      "Document ID: 46, Document: Sailing to the island of Šolta offers a quiet escape from the more touristy areas.\n",
      "Document ID: 48, Document: Sailing in Croatia provides opportunities to visit ancient fortresses and castles along the coast.\n",
      "Document ID: 50, Document: The island of Krk is accessible by bridge and is a popular starting point for sailing trips.\n",
      "Document ID: 51, Document: Sailing in Croatia is best enjoyed during the summer months.\n",
      "Document ID: 56, Document: Croatia has beautiful islands perfect for sailing.\n",
      "Document ID: 57, Document: Sailing in Croatia allows you to explore hidden coves and bays.\n",
      "Document ID: 66, Document: Sailing around the island of Murter gives access to the Kornati Islands National Park.\n",
      "Document ID: 68, Document: Sailing from Split to Dubrovnik offers breathtaking coastal scenery.\n",
      "Document ID: 70, Document: The city of Hvar is one of the sunniest places in Europe and a popular sailing hub.\n",
      "Document ID: 73, Document: The city of Pula, with its Roman amphitheater, is a unique sailing destination.\n",
      "Document ID: 78, Document: The city of Rijeka is an important cultural and historical sailing destination.\n",
      "Document ID: 79, Document: The best sailing routes in Croatia include Dubrovnik and Split.\n",
      "Document ID: 81, Document: Sailing to the Elaphiti Islands offers a mix of natural beauty and cultural sites.\n",
      "Document ID: 85, Document: The waters around Croatia are known for being calm and clear, ideal for sailing.\n",
      "Document ID: 86, Document: The Kornati Islands National Park is a popular sailing destination in Croatia.\n",
      "Document ID: 87, Document: Sailing around the Brijuni Islands offers a glimpse of Croatia's natural beauty and wildlife.\n",
      "Document ID: 89, Document: The city of Split is a major port and gateway to the Dalmatian islands.\n",
      "Document ID: 90, Document: Sailing to the island of Vis provides access to the famous Blue Cave.\n",
      "Document ID: 93, Document: Sailing to the island of Vis allows you to experience a more remote part of Croatia.\n",
      "Document ID: 96, Document: Sailing around the island of Lastovo provides a more secluded experience.\n"
     ]
    }
   ],
   "source": [
    "# Define a search query\n",
    "query = \"Sailing in Split or Hvar\"\n",
    "\n",
    "# Perform the boolean search\n",
    "boolean_results = boolean_search(query, documents)\n",
    "\n",
    "# print the results\n",
    "for doc_id, doc in boolean_results:\n",
    "  print(\"Document ID: {}, Document: {}\".format(doc_id, doc))"
   ]
  },
  {
   "cell_type": "markdown",
   "metadata": {
    "id": "lEQblx7lKahc"
   },
   "source": [
    "# Probabilistic Retrieval Model"
   ]
  },
  {
   "cell_type": "code",
   "execution_count": 60,
   "metadata": {
    "colab": {
     "base_uri": "https://localhost:8080/"
    },
    "executionInfo": {
     "elapsed": 14054,
     "status": "ok",
     "timestamp": 1724949374415,
     "user": {
      "displayName": "Gladys Mawarni",
      "userId": "03879441175200282144"
     },
     "user_tz": -60
    },
    "id": "U1FqkFRvKdtr",
    "outputId": "2b4e5aea-dfee-47b0-f647-e64948fe3fc8"
   },
   "outputs": [
    {
     "name": "stdout",
     "output_type": "stream",
     "text": [
      "Requirement already satisfied: rank_bm25 in /usr/local/python/3.12.1/lib/python3.12/site-packages (0.2.2)\n",
      "Requirement already satisfied: numpy in /usr/local/python/3.12.1/lib/python3.12/site-packages (from rank_bm25) (1.26.4)\n"
     ]
    }
   ],
   "source": [
    "# Install the rank_bm25 library\n",
    "# BM25 is a probabilistic-based ranking function used in information retrieval to rank documents\n",
    "!pip install rank_bm25"
   ]
  },
  {
   "cell_type": "code",
   "execution_count": 61,
   "metadata": {
    "executionInfo": {
     "elapsed": 11,
     "status": "ok",
     "timestamp": 1724949374415,
     "user": {
      "displayName": "Gladys Mawarni",
      "userId": "03879441175200282144"
     },
     "user_tz": -60
    },
    "id": "0O71Jk3_KhYe"
   },
   "outputs": [],
   "source": [
    "# Import the BM25Okapi class\n",
    "from rank_bm25 import BM25Okapi"
   ]
  },
  {
   "cell_type": "code",
   "execution_count": 65,
   "metadata": {
    "executionInfo": {
     "elapsed": 667,
     "status": "ok",
     "timestamp": 1724949375072,
     "user": {
      "displayName": "Gladys Mawarni",
      "userId": "03879441175200282144"
     },
     "user_tz": -60
    },
    "id": "yFqXM5ZAKmxZ"
   },
   "outputs": [],
   "source": [
    "from nltk.corpus import stopwords\n",
    "from nltk.tokenize import TreebankWordTokenizer\n",
    "\n",
    "stop_words = set(stopwords.words('english'))\n",
    "tokenizer = TreebankWordTokenizer()\n",
    "\n",
    "def process_text(text):\n",
    "    text = text.lower()\n",
    "    tokens = tokenizer.tokenize(text)\n",
    "    tokens = [word for word in tokens if word.isalnum() and word not in stop_words]\n",
    "    return tokens\n",
    "\n"
   ]
  },
  {
   "cell_type": "code",
   "execution_count": 85,
   "metadata": {
    "executionInfo": {
     "elapsed": 7,
     "status": "ok",
     "timestamp": 1724949375072,
     "user": {
      "displayName": "Gladys Mawarni",
      "userId": "03879441175200282144"
     },
     "user_tz": -60
    },
    "id": "rl6ugyGVK-h0"
   },
   "outputs": [
    {
     "ename": "NameError",
     "evalue": "name 'tokenined_docs' is not defined",
     "output_type": "error",
     "traceback": [
      "\u001b[31m---------------------------------------------------------------------------\u001b[39m",
      "\u001b[31mNameError\u001b[39m                                 Traceback (most recent call last)",
      "\u001b[36mCell\u001b[39m\u001b[36m \u001b[39m\u001b[32mIn[85]\u001b[39m\u001b[32m, line 2\u001b[39m\n\u001b[32m      1\u001b[39m \u001b[38;5;66;03m# Initialize the model\u001b[39;00m\n\u001b[32m----> \u001b[39m\u001b[32m2\u001b[39m model = BM25Okapi(\u001b[43mtokenined_docs\u001b[49m)\n",
      "\u001b[31mNameError\u001b[39m: name 'tokenined_docs' is not defined"
     ]
    }
   ],
   "source": [
    "# Initialize the model\n",
    "model = BM25Okapi(tokenined_docs)"
   ]
  },
  {
   "cell_type": "code",
   "execution_count": 86,
   "metadata": {
    "executionInfo": {
     "elapsed": 7,
     "status": "ok",
     "timestamp": 1724949375073,
     "user": {
      "displayName": "Gladys Mawarni",
      "userId": "03879441175200282144"
     },
     "user_tz": -60
    },
    "id": "2t6lwJtnLAgF"
   },
   "outputs": [],
   "source": [
    "# Function to perform a BM25 search on the documents\n",
    "def bm25_search(query, model):\n",
    "  # Process the query text\n",
    "  query_tokens = process_text(query)\n",
    "  # Get the BM25 scores for the query against the indexed documents\n",
    "  doc_scores = model.get_scores(query_tokens)\n",
    "\n",
    "  # Return the BM25 scores\n",
    "  return doc_scores"
   ]
  },
  {
   "cell_type": "code",
   "execution_count": 87,
   "metadata": {
    "executionInfo": {
     "elapsed": 7,
     "status": "ok",
     "timestamp": 1724949375073,
     "user": {
      "displayName": "Gladys Mawarni",
      "userId": "03879441175200282144"
     },
     "user_tz": -60
    },
    "id": "LIIlABxhLa3O"
   },
   "outputs": [
    {
     "ename": "NameError",
     "evalue": "name 'model' is not defined",
     "output_type": "error",
     "traceback": [
      "\u001b[31m---------------------------------------------------------------------------\u001b[39m",
      "\u001b[31mNameError\u001b[39m                                 Traceback (most recent call last)",
      "\u001b[36mCell\u001b[39m\u001b[36m \u001b[39m\u001b[32mIn[87]\u001b[39m\u001b[32m, line 3\u001b[39m\n\u001b[32m      1\u001b[39m \u001b[38;5;66;03m# Perform BM25 search to get relevance scores for the query\u001b[39;00m\n\u001b[32m      2\u001b[39m query = \u001b[33m\"\u001b[39m\u001b[33mtop 10 things to do in Croatia\u001b[39m\u001b[33m\"\u001b[39m\n\u001b[32m----> \u001b[39m\u001b[32m3\u001b[39m bm25_results = bm25_search(query, \u001b[43mmodel\u001b[49m)\n",
      "\u001b[31mNameError\u001b[39m: name 'model' is not defined"
     ]
    }
   ],
   "source": [
    "# Perform BM25 search to get relevance scores for the query\n",
    "query = \"top 10 things to do in Croatia\"\n",
    "bm25_results = bm25_search(query, model)"
   ]
  },
  {
   "cell_type": "code",
   "execution_count": 88,
   "metadata": {
    "colab": {
     "base_uri": "https://localhost:8080/"
    },
    "executionInfo": {
     "elapsed": 6,
     "status": "ok",
     "timestamp": 1724949375073,
     "user": {
      "displayName": "Gladys Mawarni",
      "userId": "03879441175200282144"
     },
     "user_tz": -60
    },
    "id": "BM3g4XgFLmyz",
    "outputId": "3a9e8c40-b5ec-4000-cbd5-55056a2795ab"
   },
   "outputs": [
    {
     "ename": "NameError",
     "evalue": "name 'bm25_results' is not defined",
     "output_type": "error",
     "traceback": [
      "\u001b[31m---------------------------------------------------------------------------\u001b[39m",
      "\u001b[31mNameError\u001b[39m                                 Traceback (most recent call last)",
      "\u001b[36mCell\u001b[39m\u001b[36m \u001b[39m\u001b[32mIn[88]\u001b[39m\u001b[32m, line 2\u001b[39m\n\u001b[32m      1\u001b[39m \u001b[38;5;66;03m# Sort the results in descending order of relevance scores\u001b[39;00m\n\u001b[32m----> \u001b[39m\u001b[32m2\u001b[39m sorted_bm25_results = np.argsort(\u001b[43mbm25_results\u001b[49m)[::-\u001b[32m1\u001b[39m]\n\u001b[32m      4\u001b[39m \u001b[38;5;66;03m# Display the sorted BM25 search results\u001b[39;00m\n\u001b[32m      5\u001b[39m \u001b[38;5;28;01mfor\u001b[39;00m idx \u001b[38;5;129;01min\u001b[39;00m sorted_bm25_results:\n",
      "\u001b[31mNameError\u001b[39m: name 'bm25_results' is not defined"
     ]
    }
   ],
   "source": [
    "# Sort the results in descending order of relevance scores\n",
    "sorted_bm25_results = np.argsort(bm25_results)[::-1]\n",
    "\n",
    "# Display the sorted BM25 search results\n",
    "for idx in sorted_bm25_results:\n",
    "  print(\"Score: {:.3f} => Document: {}\".format(bm25_results[idx], documents[idx]))"
   ]
  },
  {
   "cell_type": "code",
   "execution_count": 25,
   "metadata": {
    "executionInfo": {
     "elapsed": 9,
     "status": "ok",
     "timestamp": 1724949375436,
     "user": {
      "displayName": "Gladys Mawarni",
      "userId": "03879441175200282144"
     },
     "user_tz": -60
    },
    "id": "XQKszBTaLycH"
   },
   "outputs": [],
   "source": []
  }
 ],
 "metadata": {
  "colab": {
   "provenance": []
  },
  "kernelspec": {
   "display_name": "Python 3",
   "name": "python3"
  },
  "language_info": {
   "codemirror_mode": {
    "name": "ipython",
    "version": 3
   },
   "file_extension": ".py",
   "mimetype": "text/x-python",
   "name": "python",
   "nbconvert_exporter": "python",
   "pygments_lexer": "ipython3",
   "version": "3.12.1"
  }
 },
 "nbformat": 4,
 "nbformat_minor": 0
}
